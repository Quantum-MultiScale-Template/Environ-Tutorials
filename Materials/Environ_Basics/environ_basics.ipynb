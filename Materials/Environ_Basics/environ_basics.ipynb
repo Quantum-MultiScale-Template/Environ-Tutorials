{
 "cells": [
  {
   "attachments": {},
   "cell_type": "markdown",
   "metadata": {},
   "source": [
    "# Using Environ for Solvation Effects on Isolated Systems"
   ]
  },
  {
   "attachments": {},
   "cell_type": "markdown",
   "metadata": {},
   "source": [
    "## Tutorial Setup"
   ]
  },
  {
   "attachments": {},
   "cell_type": "markdown",
   "metadata": {},
   "source": [
    "Import all the Python modules needed in this tutorial. Most of these are very common in scientific computing, some are popular tools in atomistic simulations."
   ]
  },
  {
   "cell_type": "code",
   "execution_count": null,
   "metadata": {},
   "outputs": [],
   "source": [
    "import os\n",
    "import numpy as np\n",
    "import matplotlib.pyplot as plt\n",
    "#\n",
    "# ASE is a very convenient module for setting up simulations on molecules and \n",
    "# bulk materials\n",
    "#\n",
    "from ase.io import read, write\n",
    "from ase.build import molecule\n",
    "from ase.visualize import view\n",
    "from ase.calculators.espresso import Espresso"
   ]
  },
  {
   "attachments": {},
   "cell_type": "markdown",
   "metadata": {},
   "source": [
    "Setting up environment variables that are needed in order to submit simulations using Quantum Espresso through ASE"
   ]
  },
  {
   "cell_type": "code",
   "execution_count": null,
   "metadata": {},
   "outputs": [],
   "source": [
    "os.environ['ASE_ESPRESSO_COMMAND'] = \"mpirun -np 4 /Users/oliviero/PWSCF/espresso-git/bin/pw.x -in PREFIX.pwi > PREFIX.pwo\"\n",
    "os.environ['OMP_NUM_THREADS'] = \"1\""
   ]
  },
  {
   "attachments": {},
   "cell_type": "markdown",
   "metadata": {},
   "source": [
    "Some basic constants that may be useful later in the tutorials"
   ]
  },
  {
   "cell_type": "code",
   "execution_count": null,
   "metadata": {},
   "outputs": [],
   "source": [
    "eV2Ry = 13.605662285137 # energy conversion factor\n",
    "eV2kcal_mol = 23.0609 # energy conversion factor\n",
    "bohr2ang = 0.5291772 # length conversion factor\n",
    "ang2bohr = 1./bohr2ang"
   ]
  },
  {
   "attachments": {},
   "cell_type": "markdown",
   "metadata": {},
   "source": [
    "## Local Functions and Classes Used for the Tutorial"
   ]
  },
  {
   "attachments": {},
   "cell_type": "markdown",
   "metadata": {},
   "source": [
    "Basic functions to extract data from pw.x output files"
   ]
  },
  {
   "cell_type": "code",
   "execution_count": null,
   "metadata": {},
   "outputs": [],
   "source": [
    "def get_total_energy(filename='espresso.pwo'):\n",
    "    \"\"\"\n",
    "    Given a filename corresponding to a pw.x output, \n",
    "    extract the total energies from each scf calculation\n",
    "\n",
    "    Input Variables:\n",
    "        filename = name of pw.x output file\n",
    "    \n",
    "    Output Variables:\n",
    "        energies = list of floats\n",
    "    \"\"\"\n",
    "    energies=[]\n",
    "    lines = [line for line in open(filename, 'r')]\n",
    "    for line in lines:\n",
    "        if line.strip().startswith('!'):\n",
    "            energies.append(float(line.split()[4]))\n",
    "    return energies\n",
    "\n",
    "def get_scf_energy(filename='espresso.pwo'):\n",
    "    \"\"\"\n",
    "    Given a filename corresponding to a pw.x output, \n",
    "    extract the energies from each scf step\n",
    "\n",
    "    Input Variables:\n",
    "        filename = name of pw.x output file\n",
    "    \n",
    "    Output Variables:\n",
    "        energies = list of floats\n",
    "    \"\"\"\n",
    "    energies=[]\n",
    "    lines = [line for line in open(filename, 'r')]\n",
    "    for line in lines:\n",
    "        if line.strip().startswith('total energy'):\n",
    "            energies.append(float(line.split()[3]))\n",
    "    return energies\n",
    "\n",
    "def get_scf_accuracy(filename='espresso.pwo'):\n",
    "    \"\"\"\n",
    "    Given a filename corresponding to a pw.x output, \n",
    "    extract the energies from each scf step\n",
    "\n",
    "    Input Variables:\n",
    "        filename = name of pw.x output file\n",
    "    \n",
    "    Output Variables:\n",
    "        energies = list of floats\n",
    "    \"\"\"\n",
    "    accuracies=[]\n",
    "    lines = [line for line in open(filename, 'r')]\n",
    "    for line in lines:\n",
    "        if line.strip().startswith('estimated scf accuracy'):\n",
    "            accuracies.append(float(line.split()[4]))\n",
    "    return accuracies\n",
    "\n",
    "def get_total_force(filename='espresso.pwo'):\n",
    "    \"\"\"\n",
    "    Given a filename corresponding to a pw.x output, \n",
    "    extract the total force acting on the atoms from each scf calculation\n",
    "\n",
    "    Input Variables:\n",
    "        filename = name of pw.x output file\n",
    "    \n",
    "    Output Variables:\n",
    "        forces = list of floats\n",
    "    \"\"\"\n",
    "    forces=[]\n",
    "    lines = [line for line in open(filename, 'r')]\n",
    "    for line in lines:\n",
    "        if line.strip().startswith('Total force'):\n",
    "            forces.append(float(line.split()[3]))\n",
    "    return forces\n",
    "\n",
    "\n",
    "def get_bond_length(i,j,filename='espresso.pwo'):\n",
    "    \"\"\"\n",
    "    Given a filename corresponding to a pw.x output, and the indexes of two\n",
    "    atoms in the simulation (using Python notation, starting from 0)\n",
    "    extract the bond length for each scf step in the simulation\n",
    "\n",
    "    Input Variables:\n",
    "        i = index of first atom\n",
    "        j = index of second atom\n",
    "        filename = name of pw.x output file\n",
    "    \n",
    "    Output Variables:\n",
    "        bonds = list of floats\n",
    "    \"\"\"\n",
    "    bonds=[]\n",
    "    ri = np.zeros(3)\n",
    "    rj = np.zeros(3)\n",
    "    lines = [line for line in open(filename, 'r')]\n",
    "    for line in lines:\n",
    "        if line.strip().startswith('number of atoms'):\n",
    "            nat = int(line.split()[4])\n",
    "            break\n",
    "    if i < 0 or i >= nat : \n",
    "        print('Error, index i must be >= 0 and < nat')\n",
    "        return\n",
    "    if j < 0 or j >= nat : \n",
    "        print('Error, index j must be >= 0 and < nat')\n",
    "        return\n",
    "    if i == j : \n",
    "        print('Error, indexes i and j must be different')\n",
    "        return\n",
    "    iat = -1\n",
    "    for line in lines:\n",
    "        if iat >= 0 and iat < nat : \n",
    "            if iat == i : ri = np.array([line.split()[1:4]],dtype=float)\n",
    "            if iat == j : rj = np.array([line.split()[1:4]],dtype=float)\n",
    "            iat += 1 \n",
    "        if iat == nat : \n",
    "            bonds.append(np.sqrt(np.sum((ri-rj)**2)))\n",
    "            iat = -1\n",
    "        if line.strip().startswith('ATOMIC_POSITIONS'):\n",
    "            iat = 0\n",
    "    return bonds"
   ]
  },
  {
   "attachments": {},
   "cell_type": "markdown",
   "metadata": {},
   "source": [
    "Cubefile visualization tools"
   ]
  },
  {
   "cell_type": "code",
   "execution_count": null,
   "metadata": {},
   "outputs": [],
   "source": [
    "class cubefile():\n",
    "    \"\"\"\n",
    "    Class to read and manipulate cubefiles\n",
    "    \"\"\"\n",
    "\n",
    "    def __init__(this,filename,delta=1.e-5):\n",
    "        lines = [line for line in open(filename, 'r')]\n",
    "        this.nat = int(lines[2].split()[0])\n",
    "        this.origin = np.array(lines[2].split()[1:4],dtype=float)\n",
    "        this.n = np.zeros(3,dtype=int)\n",
    "        this.dgrid = np.zeros(3)\n",
    "        for i in range(3):\n",
    "            this.n[i] = int(lines[3+i].split()[0])\n",
    "            this.dgrid[i] = float(lines[3+i].split()[i+1])\n",
    "        this.atmnum = np.zeros(this.nat,dtype=int)\n",
    "        this.atmchg = np.zeros(this.nat)\n",
    "        this.atmpos = np.zeros((3,this.nat))\n",
    "        for i in range(this.nat):\n",
    "            this.atmnum[i] = int(lines[6+i].split()[0])\n",
    "            this.atmchg[i] = float(lines[6+i].split()[1])\n",
    "            this.atmpos[:,i] = np.array(lines[6+i].split()[2:5],dtype=float)\n",
    "        this.ntot = this.n[0]*this.n[1]*this.n[2]\n",
    "        this.data = np.zeros(this.ntot) \n",
    "        i = 0\n",
    "        for line in lines[6+this.nat:-1] : \n",
    "            this.data[i:i+6]=[ float(s) for s in line.split()]\n",
    "            i += 6\n",
    "        this.data[i:]=[ float(s) for s in lines[-1].split()]\n",
    "        this.data = this.data.reshape((this.n[0],this.n[1],this.n[2]))\n",
    "        this.r=np.zeros((3,this.n[0],this.n[1],this.n[2]))\n",
    "        this.x=np.arange(0.,this.dgrid[0]*this.n[0]-delta,this.dgrid[0])+this.origin[0]\n",
    "        this.y=np.arange(0.,this.dgrid[1]*this.n[1]-delta,this.dgrid[1])+this.origin[1]\n",
    "        this.z=np.arange(0.,this.dgrid[2]*this.n[2]-delta,this.dgrid[2])+this.origin[2]\n",
    "        this.r[0],this.r[1],this.r[2]=np.meshgrid(this.x,this.y,this.z,indexing='ij')\n",
    "\n",
    "    def to_line(this,center,axis):\n",
    "        icenter = np.rint(center/this.dgrid).astype('int')\n",
    "        icenter = icenter - this.n * np.trunc(icenter//this.n).astype('int') \n",
    "        if axis == 0 :\n",
    "            axis = this.r[0,:,icenter[1],icenter[2]]\n",
    "            value = this.data[:,icenter[1],icenter[2]]\n",
    "        elif axis == 1 :\n",
    "            axis = this.r[1,icenter[0],:,icenter[2]]\n",
    "            value = this.data[icenter[0],:,icenter[2]]\n",
    "        elif axis == 2 :\n",
    "            axis = this.r[2,icenter[0],icenter[1],:]\n",
    "            value = this.data[icenter[0],icenter[1],:]\n",
    "        return axis,value\n",
    "    \n",
    "    def to_line_planar_average(this,center,axis):\n",
    "        icenter = np.rint(center/this.dgrid).astype('int')\n",
    "        icenter = icenter - this.n * np.trunc(icenter//this.n).astype('int') \n",
    "        if axis == 0 :\n",
    "            axis = this.r[0,:,icenter[1],icenter[2]]\n",
    "            value = np.mean(this.data,(1,2))\n",
    "        elif axis == 1 :\n",
    "            axis = this.r[1,icenter[0],:,icenter[2]]\n",
    "            value = np.mean(this.data,(0,2))\n",
    "        elif axis == 2 :\n",
    "            axis = this.r[2,icenter[0],icenter[1],:]\n",
    "            value = np.mean(this.data,(0,1))\n",
    "        return axis,value\n",
    "    \n",
    "    def to_surface(this,center,axis):\n",
    "        icenter = np.rint(center/this.dgrid).astype('int')\n",
    "        icenter = icenter - this.n * np.trunc(icenter//this.n).astype('int') \n",
    "        if axis == 0 :\n",
    "            xx = this.r[1,icenter[0],:,:]\n",
    "            yy = this.r[2,icenter[0],:,:]\n",
    "            zz = this.data[icenter[0],:,:]\n",
    "        elif axis == 1 :\n",
    "            xx = this.r[0,:,icenter[1],:]\n",
    "            yy = this.r[2,:,icenter[1],:]\n",
    "            zz = this.data[:,icenter[1],:]\n",
    "        elif axis == 2 :\n",
    "            xx = this.r[0,:,:,icenter[2]]\n",
    "            yy = this.r[1,:,:,icenter[2]]\n",
    "            zz = this.data[:,:,icenter[2]]\n",
    "        return xx,yy,zz"
   ]
  },
  {
   "attachments": {},
   "cell_type": "markdown",
   "metadata": {},
   "source": [
    "## Modeling a Water Molecule in Solution"
   ]
  },
  {
   "attachments": {},
   "cell_type": "markdown",
   "metadata": {},
   "source": [
    "We can use the ase.build.molecule() method to create a water molecule in vacuum. We can also use ASE to visualize it: checking every step of your simulation is a great way to avoid troubles, learning to visualize your data is a key skill for debugging."
   ]
  },
  {
   "cell_type": "code",
   "execution_count": null,
   "metadata": {},
   "outputs": [],
   "source": [
    "atoms = molecule('H2O')\n",
    "view(atoms, viewer=\"x3d\")"
   ]
  },
  {
   "attachments": {},
   "cell_type": "markdown",
   "metadata": {},
   "source": [
    "ASE has created an isolated molecule. However, QE is a tool to simulate periodic systems, so we need to put our molecule in a periodic simulation cell. For simplicity, but also to ensure a better behaviour of the electrostatics interactions, a cubic cell is the best choice to approximate isolated systems. "
   ]
  },
  {
   "cell_type": "code",
   "execution_count": null,
   "metadata": {},
   "outputs": [],
   "source": [
    "atoms.set_cell(15. * np.identity(3))\n",
    "atoms.set_pbc((True, True, True))\n",
    "atoms.center()"
   ]
  },
  {
   "attachments": {},
   "cell_type": "markdown",
   "metadata": {},
   "source": [
    "QE is a plane-wave code that uses pseudopotentials to approximate core electrons, so that the resulting electron density is smoother and we can use a smaller number of plane-waves. Make sure the pseudopotentials are downloaded in the right folder (specified in the psedo_dir keyword). NOTE: in QE the choice of pseudopotential determines the DFT functionals that you will be using. \n",
    "\n",
    "For this tutorial, we are using the Perdew–Burke-Ernzerhof (PBE) functional and we are using Ultrasoft (us) PP for all the atoms. The pseudopotentials are downloaded from the Quantum Espresso website (e.g. from https://www.quantum-espresso.org/wp-content/uploads/upf_files/O.pbe-rrkjus.UPF)"
   ]
  },
  {
   "cell_type": "code",
   "execution_count": null,
   "metadata": {},
   "outputs": [],
   "source": [
    "pseudopotentials = {\n",
    "    \"H\":\"H.pbe-rrkjus.UPF\",\n",
    "    \"O\":\"O.pbe-rrkjus.UPF\"\n",
    "}"
   ]
  },
  {
   "attachments": {},
   "cell_type": "markdown",
   "metadata": {},
   "source": [
    "### Running a Single SCF Calculation with QE"
   ]
  },
  {
   "attachments": {},
   "cell_type": "markdown",
   "metadata": {},
   "source": [
    "The following cell specifies the input keywords for a QE calculation with the pw.x code. You can find all of the available keywords and their default values in QE documentation and online, e.g., at https://www.quantum-espresso.org/Doc/INPUT_PW.html.\n",
    "\n",
    "We will start with a single SCF calculation. NOTE: at this time we have not specified any environment yet, this is just a QE calculation for an isolated water molecule in a periodic cubic cell."
   ]
  },
  {
   "cell_type": "code",
   "execution_count": null,
   "metadata": {},
   "outputs": [],
   "source": [
    "input_data = {\n",
    "    'control': {\n",
    "        'restart_mode': 'from_scratch',\n",
    "        'pseudo_dir': '../pseudos',\n",
    "        'calculation': 'scf',\n",
    "        'prefix': 'H2O_vacuum'\n",
    "    },\n",
    "    'system': {\n",
    "        'ecutwfc': 30,\n",
    "        'ecutrho': 300\n",
    "    },\n",
    "    'electrons': {\n",
    "        'diagonalization':'david',\n",
    "        'conv_thr': 1.0e-8, \n",
    "        'mixing_beta': 0.4\n",
    "    }\n",
    "} \n",
    "\n",
    "calc = Espresso(\n",
    "    pseudopotentials=pseudopotentials,\n",
    "    tstress=True, tprnfor=True, \n",
    "    input_data = input_data,\n",
    "    kpts=(1,1,1),\n",
    "    koffset=(0,0,0))\n",
    "\n",
    "atoms.calc = calc"
   ]
  },
  {
   "attachments": {},
   "cell_type": "markdown",
   "metadata": {},
   "source": [
    "The following cell will use ASE to run pw.x on the system with the keywords specified above."
   ]
  },
  {
   "cell_type": "code",
   "execution_count": null,
   "metadata": {},
   "outputs": [],
   "source": [
    "energy = atoms.get_potential_energy()\n",
    "print(f\"Energy in vacuum = {energy:.3f} eV\")"
   ]
  },
  {
   "cell_type": "code",
   "execution_count": null,
   "metadata": {},
   "outputs": [],
   "source": [
    "plt.subplot(2,1,1)\n",
    "scf_energies = get_scf_energy('espresso.pwo')\n",
    "plt.plot(scf_energies,'o-')\n",
    "plt.ylabel('total energy (Ry)')\n",
    "plt.subplot(2,1,2)\n",
    "scf_accuracies = get_scf_accuracy('espresso.pwo')\n",
    "plt.semilogy(scf_accuracies,'o-')\n",
    "plt.ylabel('estimated SCF acc. (Ry)')\n",
    "plt.show()"
   ]
  },
  {
   "attachments": {},
   "cell_type": "markdown",
   "metadata": {},
   "source": [
    "### Using Environ for PBC Corrections in 0D"
   ]
  },
  {
   "attachments": {},
   "cell_type": "markdown",
   "metadata": {},
   "source": [
    "We will now use Environ for one of the least invasive environment description, i.e., to remove PBC artifacts from our periodic cell calculation. NOTE that there are many alternative ways of removing PBC artifacts already implemented in QE from an isolated system in vacuum. This is mostly to test that Environ works and to introduce the topic of PBC corrections. "
   ]
  },
  {
   "attachments": {},
   "cell_type": "markdown",
   "metadata": {},
   "source": [
    "In order to run a pw.x calculation with Environ, we need to specify it in the command line using the --environ keyword after the executable name."
   ]
  },
  {
   "cell_type": "code",
   "execution_count": null,
   "metadata": {},
   "outputs": [],
   "source": [
    "os.environ['ASE_ESPRESSO_COMMAND'] = \"mpirun -np 4 /Users/oliviero/PWSCF/espresso-git/bin/pw.x --environ -in PREFIX.pwi > PREFIX.pwo\""
   ]
  },
  {
   "attachments": {},
   "cell_type": "markdown",
   "metadata": {},
   "source": [
    "The following cell uses bash to generate a new file in the working folder. This file, named environ.in, is the input used by Environ to setup the environment conditions."
   ]
  },
  {
   "cell_type": "code",
   "execution_count": null,
   "metadata": {},
   "outputs": [],
   "source": [
    "%%bash\n",
    "  cat > environ.in << EOF\n",
    "&ENVIRON\n",
    "   !\n",
    "   verbose = 0\n",
    "   environ_thr = 0.1 ! this controls when Environ kicks in\n",
    "   environ_type = 'vacuum' ! this is the default value, no environment effects\n",
    "   env_electrostatic = .true. ! this will still activate Environ for electrostatics\n",
    "   !\n",
    "/\n",
    "&BOUNDARY\n",
    "/\n",
    "&ELECTROSTATIC\n",
    "   !\n",
    "   pbc_correction = 'parabolic'\n",
    "   pbc_dim = 0\n",
    "   !\n",
    "/\n",
    "EOF"
   ]
  },
  {
   "cell_type": "code",
   "execution_count": null,
   "metadata": {},
   "outputs": [],
   "source": [
    "input_data = {\n",
    "    'control': {\n",
    "        'restart_mode': 'from_scratch',\n",
    "        'pseudo_dir': '../pseudos',\n",
    "        'calculation': 'scf',\n",
    "        'prefix': 'H2O_vacuum'\n",
    "    },\n",
    "    'system': {\n",
    "        'ecutwfc': 30,\n",
    "        'ecutrho': 300\n",
    "    },\n",
    "    'electrons': {\n",
    "        'diagonalization':'david',\n",
    "        'conv_thr': 1.0e-8, \n",
    "        'mixing_beta': 0.4\n",
    "    }\n",
    "} \n",
    "\n",
    "calc = Espresso(\n",
    "    pseudopotentials=pseudopotentials,\n",
    "    tstress=True, tprnfor=True, \n",
    "    input_data = input_data,\n",
    "    kpts=(1,1,1),\n",
    "    koffset=(0,0,0))\n",
    "\n",
    "atoms.calc = calc"
   ]
  },
  {
   "cell_type": "code",
   "execution_count": null,
   "metadata": {},
   "outputs": [],
   "source": [
    "energy = atoms.get_potential_energy()\n",
    "print(f\"Energy in vacuum + parabolic correction = {energy:.3f} eV\")"
   ]
  },
  {
   "attachments": {},
   "cell_type": "markdown",
   "metadata": {},
   "source": [
    "### Debugging and Visualization with Environ"
   ]
  },
  {
   "attachments": {},
   "cell_type": "markdown",
   "metadata": {},
   "source": [
    "We can restart a pw.x calculation and restart Environ with it. This allows to run a short simulation on a converged system (thus, only 1 SCF step) with a higher verbosity in Environ. When verbose = 1, Environ will produce a debug file named environ.debug with some useful information."
   ]
  },
  {
   "cell_type": "code",
   "execution_count": null,
   "metadata": {},
   "outputs": [],
   "source": [
    "%%bash\n",
    "  cat > environ.in << EOF\n",
    "&ENVIRON\n",
    "   !\n",
    "   verbose = 2\n",
    "   environ_thr = 0.1\n",
    "   environ_type = 'vacuum'\n",
    "   environ_restart = .true.\n",
    "   env_electrostatic = .true.\n",
    "   !\n",
    "/\n",
    "&BOUNDARY\n",
    "/\n",
    "&ELECTROSTATIC\n",
    "   !\n",
    "   pbc_correction = 'parabolic'\n",
    "   pbc_dim = 0\n",
    "   !\n",
    "/\n",
    "EOF"
   ]
  },
  {
   "cell_type": "code",
   "execution_count": null,
   "metadata": {},
   "outputs": [],
   "source": [
    "input_data = {\n",
    "    'control': {\n",
    "        'restart_mode': 'restart',\n",
    "        'pseudo_dir': '../pseudos',\n",
    "        'calculation': 'scf',\n",
    "        'prefix': 'H2O_vacuum'\n",
    "    },\n",
    "    'system': {\n",
    "        'ecutwfc': 30,\n",
    "        'ecutrho': 300\n",
    "    },\n",
    "    'electrons': {\n",
    "        'diagonalization':'david',\n",
    "        'conv_thr': 1.0e-8, \n",
    "        'mixing_beta': 0.4\n",
    "    }\n",
    "} \n",
    "\n",
    "calc = Espresso(\n",
    "    pseudopotentials=pseudopotentials,\n",
    "    tstress=True, tprnfor=True, \n",
    "    input_data = input_data,\n",
    "    kpts=(1,1,1),\n",
    "    koffset=(0,0,0))\n",
    "\n",
    "atoms.calc = calc"
   ]
  },
  {
   "cell_type": "code",
   "execution_count": null,
   "metadata": {},
   "outputs": [],
   "source": [
    "energy = atoms.get_potential_energy()\n",
    "print(f\"Energy in vacuum + parabolic correction = {energy:.3f} eV\")"
   ]
  },
  {
   "attachments": {},
   "cell_type": "markdown",
   "metadata": {},
   "source": [
    "Running Environ with a verbosity of 2 will generate some (pretty sizable) files in the Gaussian cubefile format. These files contain information on the simulation cell, the grid, the position and charges of the atoms, and the value of a scalar field on the gridpoints of the simulation cell. For our specific simulation, the three cubefiles that Environ prints are called\n",
    "* dvtot : this contains the correction to the Kohn-Sham potential that Environ passes back to QE\n",
    "* vreference: this is the electrostatic potential as computed for a periodic system using FFTs. This equivalent to the potential computed by QE, but with the minor difference that atoms are treated as smeared charges (Gaussians, default spread of 0.5 a.u.) by Environ (instead of point charges and pseudo-potentials)\n",
    "* velectrostatic: this is the electrostatic potential in the presence of the environment effects. Also in this case, atoms are modelled as Gaussians."
   ]
  },
  {
   "cell_type": "code",
   "execution_count": null,
   "metadata": {},
   "outputs": [],
   "source": [
    "vref=cubefile('vreference.cube')\n",
    "vel=cubefile('velectrostatic.cube')\n",
    "dv=cubefile('dvtot.cube')"
   ]
  },
  {
   "cell_type": "code",
   "execution_count": null,
   "metadata": {},
   "outputs": [],
   "source": [
    "x,y=vref.to_line(atoms.get_center_of_mass()*ang2bohr,2)\n",
    "plt.plot(x,y)\n",
    "x,y=vel.to_line(atoms.get_center_of_mass()*ang2bohr,2)\n",
    "plt.plot(x,y)\n",
    "x,y=dv.to_line(atoms.get_center_of_mass()*ang2bohr,2)\n",
    "plt.plot(x,y)\n",
    "plt.ylim(-0.05,0.05)\n",
    "plt.show()"
   ]
  },
  {
   "attachments": {},
   "cell_type": "markdown",
   "metadata": {},
   "source": [
    "### Relax in Vacuum"
   ]
  },
  {
   "attachments": {},
   "cell_type": "markdown",
   "metadata": {},
   "source": [
    "The solvation free energy in a continuum medium framework is defined as the difference in energy between a relaxed structure in vacuum and a relaxed structure in the continuum medium. Here we will perform the first step of the calculation."
   ]
  },
  {
   "cell_type": "code",
   "execution_count": null,
   "metadata": {},
   "outputs": [],
   "source": [
    "input_data = {\n",
    "    'control': {\n",
    "        'restart_mode': 'restart',\n",
    "        'pseudo_dir': '../pseudos',\n",
    "        'calculation': 'relax',\n",
    "        'prefix': 'H2O_vacuum'\n",
    "    },\n",
    "    'system': {\n",
    "        'ecutwfc': 30,\n",
    "        'ecutrho': 300\n",
    "    },\n",
    "    'electrons': {\n",
    "        'diagonalization':'david',\n",
    "        'conv_thr': 1.0e-8, \n",
    "        'mixing_beta': 0.4\n",
    "    }\n",
    "} \n",
    "\n",
    "calc = Espresso(\n",
    "    pseudopotentials=pseudopotentials,\n",
    "    tstress=True, tprnfor=True, \n",
    "    input_data = input_data,\n",
    "    kpts=(1,1,1),\n",
    "    koffset=(0,0,0))\n",
    "\n",
    "atoms.calc = calc"
   ]
  },
  {
   "cell_type": "code",
   "execution_count": null,
   "metadata": {},
   "outputs": [],
   "source": [
    "%%bash\n",
    "  cat > environ.in << EOF\n",
    "&ENVIRON\n",
    "   !\n",
    "   verbose = 0\n",
    "   environ_thr = 0.1\n",
    "   environ_type = 'vacuum'\n",
    "   environ_restart = .true.\n",
    "   env_electrostatic = .true.\n",
    "   !\n",
    "/\n",
    "&BOUNDARY\n",
    "/\n",
    "&ELECTROSTATIC\n",
    "   !\n",
    "   pbc_correction = 'parabolic'\n",
    "   pbc_dim = 0\n",
    "   !\n",
    "/\n",
    "EOF"
   ]
  },
  {
   "cell_type": "code",
   "execution_count": null,
   "metadata": {},
   "outputs": [],
   "source": [
    "energy_vacuum = atoms.get_potential_energy()\n",
    "print(f\"Relaxed total energy in vacuum = {energy_vacuum:.3f} eV\")"
   ]
  },
  {
   "attachments": {},
   "cell_type": "markdown",
   "metadata": {},
   "source": [
    "The following cell will copy the output of the simulation for future use."
   ]
  },
  {
   "cell_type": "code",
   "execution_count": null,
   "metadata": {},
   "outputs": [],
   "source": [
    "! cp espresso.pwo H2O_vacuum.out"
   ]
  },
  {
   "cell_type": "code",
   "execution_count": null,
   "metadata": {},
   "outputs": [],
   "source": [
    "energies=get_total_energy()\n",
    "forces=get_total_force()\n",
    "bonds=get_bond_length(0,1)"
   ]
  },
  {
   "cell_type": "code",
   "execution_count": null,
   "metadata": {},
   "outputs": [],
   "source": [
    "plt.figure(figsize=(6,8))\n",
    "plt.subplot(3,1,1)\n",
    "plt.plot(np.arange(1,len(energies)+1),energies,'o-')\n",
    "plt.ylabel('Total Energy (Ry)')\n",
    "plt.subplot(3,1,2)\n",
    "plt.plot(np.arange(1,len(bonds)+1),bonds,'o-')\n",
    "plt.ylabel('O-H Bond Length (a.u.)')\n",
    "plt.subplot(3,1,3)\n",
    "plt.semilogy(np.arange(1,len(forces)+1),forces,'o-')\n",
    "plt.ylabel('Total Force (Ry/a.u.)')\n",
    "plt.show()"
   ]
  },
  {
   "attachments": {},
   "cell_type": "markdown",
   "metadata": {},
   "source": [
    "### SCF in Solution: Problems and Solutions (Pun Intended)"
   ]
  },
  {
   "attachments": {},
   "cell_type": "markdown",
   "metadata": {},
   "source": [
    "Before running a relax calculation in solution, let us examine the main parameters of Environ for simulating a system in water. To show some of the typical problems with using a continuum solvation model, we will perform a short SCF simulation with low accuracy (faster). "
   ]
  },
  {
   "cell_type": "code",
   "execution_count": null,
   "metadata": {},
   "outputs": [],
   "source": [
    "input_data = {\n",
    "    'control': {\n",
    "        'restart_mode': 'from_scratch',\n",
    "        'pseudo_dir': '../pseudos',\n",
    "        'calculation': 'scf',\n",
    "        'prefix': 'H2O_water'\n",
    "    },\n",
    "    'system': {\n",
    "        'ecutwfc': 30,\n",
    "        'ecutrho': 300\n",
    "    },\n",
    "    'electrons': {\n",
    "        'diagonalization':'david',\n",
    "        'conv_thr': 1.0e-6, \n",
    "        'mixing_beta': 0.4\n",
    "    }\n",
    "} \n",
    "\n",
    "calc = Espresso(\n",
    "    pseudopotentials=pseudopotentials,\n",
    "    tstress=True, tprnfor=True, \n",
    "    input_data = input_data,\n",
    "    kpts=(1,1,1),\n",
    "    koffset=(0,0,0))\n",
    "\n",
    "atoms.calc = calc"
   ]
  },
  {
   "cell_type": "code",
   "execution_count": null,
   "metadata": {},
   "outputs": [],
   "source": [
    "%%bash\n",
    "  cat > environ.in << EOF\n",
    "&ENVIRON\n",
    "   !\n",
    "   verbose = 0\n",
    "   environ_thr = 0.01\n",
    "   environ_type = 'water'\n",
    "   !\n",
    "/\n",
    "&BOUNDARY\n",
    "/\n",
    "&ELECTROSTATIC\n",
    "   !\n",
    "   pbc_correction = 'parabolic'\n",
    "   pbc_dim = 0\n",
    "   !\n",
    "   tol = 1.d-2\n",
    "   !\n",
    "/\n",
    "EOF"
   ]
  },
  {
   "cell_type": "code",
   "execution_count": null,
   "metadata": {},
   "outputs": [],
   "source": [
    "energy = atoms.get_potential_energy()"
   ]
  },
  {
   "cell_type": "code",
   "execution_count": null,
   "metadata": {},
   "outputs": [],
   "source": [
    "! cp espresso.pwo H2O_water_bad.out"
   ]
  },
  {
   "attachments": {},
   "cell_type": "markdown",
   "metadata": {},
   "source": [
    "We can visualize the properties of the system along the simulation. What problems do you see?"
   ]
  },
  {
   "cell_type": "code",
   "execution_count": null,
   "metadata": {},
   "outputs": [],
   "source": [
    "plt.subplot(2,1,1)\n",
    "scf_energies = get_scf_energy('H2O_water_bad.out')\n",
    "plt.plot(scf_energies,'o-')\n",
    "plt.ylabel('total energy (Ry)')\n",
    "plt.subplot(2,1,2)\n",
    "scf_accuracies = get_scf_accuracy('H2O_water_bad.out')\n",
    "plt.semilogy(scf_accuracies,'o-')\n",
    "plt.ylabel('estimated SCF acc. (Ry)')\n",
    "plt.show()"
   ]
  },
  {
   "attachments": {},
   "cell_type": "markdown",
   "metadata": {},
   "source": [
    "We can now re-run our calculation with better parameters for Environ. The goal is to choose parameters that minimize the number of SCF steps required to converge."
   ]
  },
  {
   "cell_type": "code",
   "execution_count": null,
   "metadata": {},
   "outputs": [],
   "source": [
    "input_data = {\n",
    "    'control': {\n",
    "        'restart_mode': 'from_scratch',\n",
    "        'pseudo_dir': '../pseudos',\n",
    "        'calculation': 'scf',\n",
    "        'prefix': 'H2O_water'\n",
    "    },\n",
    "    'system': {\n",
    "        'ecutwfc': 30,\n",
    "        'ecutrho': 300\n",
    "    },\n",
    "    'electrons': {\n",
    "        'diagonalization':'david',\n",
    "        'conv_thr': 1.0e-4, \n",
    "        'mixing_beta': 0.4\n",
    "    }\n",
    "} \n",
    "\n",
    "calc = Espresso(\n",
    "    pseudopotentials=pseudopotentials,\n",
    "    tstress=True, tprnfor=True, \n",
    "    input_data = input_data,\n",
    "    kpts=(1,1,1),\n",
    "    koffset=(0,0,0))\n",
    "\n",
    "atoms.calc = calc"
   ]
  },
  {
   "cell_type": "code",
   "execution_count": null,
   "metadata": {},
   "outputs": [],
   "source": [
    "%%bash\n",
    "  cat > environ.in << EOF\n",
    "&ENVIRON\n",
    "   !\n",
    "   verbose = 0\n",
    "   environ_thr = 1.\n",
    "   environ_type = 'water'\n",
    "   !\n",
    "/\n",
    "&BOUNDARY\n",
    "/\n",
    "&ELECTROSTATIC\n",
    "   !\n",
    "   pbc_correction = 'parabolic'\n",
    "   pbc_dim = 0\n",
    "   !\n",
    "   tol = 1.d-10\n",
    "   !\n",
    "/\n",
    "EOF"
   ]
  },
  {
   "cell_type": "code",
   "execution_count": null,
   "metadata": {},
   "outputs": [],
   "source": [
    "energy = atoms.get_potential_energy()"
   ]
  },
  {
   "cell_type": "code",
   "execution_count": null,
   "metadata": {},
   "outputs": [],
   "source": [
    "plt.subplot(2,1,1)\n",
    "scf_energies = get_scf_energy('H2O_water_bad.out')\n",
    "plt.plot(scf_energies,'o-')\n",
    "scf_energies = get_scf_energy('espresso.pwo')\n",
    "plt.plot(scf_energies,'o-')\n",
    "plt.ylabel('total energy (Ry)')\n",
    "plt.subplot(2,1,2)\n",
    "scf_accuracies = get_scf_accuracy('H2O_water_bad.out')\n",
    "plt.semilogy(scf_accuracies,'o-')\n",
    "scf_accuracies = get_scf_accuracy('espresso.pwo')\n",
    "plt.semilogy(scf_accuracies,'o-')\n",
    "plt.ylabel('estimated SCF acc. (Ry)')\n",
    "plt.show()"
   ]
  },
  {
   "attachments": {},
   "cell_type": "markdown",
   "metadata": {},
   "source": [
    "### Relax in Solution"
   ]
  },
  {
   "attachments": {},
   "cell_type": "markdown",
   "metadata": {},
   "source": [
    "The calculation is a standard geometry relaxation calculation, but in the presence of a continuum dielectric with the shape defined\n",
    "by the electronic density, according to the  model of Fattebert and Gygi, Int J Quantum Chem 93, 139 (2003), revised by O. Andreussi, I. Dabo and N. Marzari, J. Chem. Phys. 136, 064102 (2012) \n",
    "\n",
    "Mind that the parabolic correction (or point-countercharge method) is used for both the calculation in vacuum and in the solvent.\n",
    "\n",
    "Additional terms of solvation can be computed by changing the specific keywords:\n",
    "* env_surface_tension: surface tension of the solvent. If different from zero, a cavitation energy is computed according to a revised version of the formula in Scherlis et al. JCP 124, 074103, 2006 and Andreussi et al. J. Chem. Phys. 2012. \n",
    "* env_pressure: external pressure of the medium. If different from zero, a PV energy term is added to the total energy, according to the method in Cococcioni et al. PRL 94, 145501, 2005."
   ]
  },
  {
   "cell_type": "code",
   "execution_count": null,
   "metadata": {},
   "outputs": [],
   "source": [
    "input_data = {\n",
    "    'control': {\n",
    "        'restart_mode': 'from_scratch',\n",
    "        'pseudo_dir': '../pseudos',\n",
    "        'calculation': 'relax',\n",
    "        'prefix': 'H2O_water'\n",
    "    },\n",
    "    'system': {\n",
    "        'ecutwfc': 30,\n",
    "        'ecutrho': 300\n",
    "    },\n",
    "    'electrons': {\n",
    "        'diagonalization':'david',\n",
    "        'conv_thr': 1.0e-8, \n",
    "        'mixing_beta': 0.4\n",
    "    }\n",
    "} \n",
    "\n",
    "calc = Espresso(\n",
    "    pseudopotentials=pseudopotentials,\n",
    "    tstress=True, tprnfor=True, \n",
    "    input_data = input_data,\n",
    "    kpts=(1,1,1),\n",
    "    koffset=(0,0,0))\n",
    "\n",
    "atoms.calc = calc"
   ]
  },
  {
   "cell_type": "code",
   "execution_count": null,
   "metadata": {},
   "outputs": [],
   "source": [
    "%%bash\n",
    "  cat > environ.in << EOF\n",
    "&ENVIRON\n",
    "   !\n",
    "   verbose = 0\n",
    "   environ_thr = 1\n",
    "   environ_type = 'water'\n",
    "   !\n",
    "/\n",
    "&BOUNDARY\n",
    "/\n",
    "&ELECTROSTATIC\n",
    "   !\n",
    "   pbc_correction = 'parabolic'\n",
    "   pbc_dim = 0\n",
    "   !\n",
    "   tol = 1.d-11\n",
    "   !\n",
    "/\n",
    "EOF"
   ]
  },
  {
   "cell_type": "code",
   "execution_count": null,
   "metadata": {},
   "outputs": [],
   "source": [
    "energy_solution = atoms.get_potential_energy()\n",
    "print(f\"Relaxed total energy in solution = {energy_solution:.3f} eV\")"
   ]
  },
  {
   "cell_type": "code",
   "execution_count": null,
   "metadata": {},
   "outputs": [],
   "source": [
    "! cp espresso.pwo H2O_water.out"
   ]
  },
  {
   "cell_type": "code",
   "execution_count": null,
   "metadata": {},
   "outputs": [],
   "source": [
    "energies=get_total_energy()\n",
    "forces=get_total_force()\n",
    "bonds=get_bond_length(0,1)"
   ]
  },
  {
   "cell_type": "code",
   "execution_count": null,
   "metadata": {},
   "outputs": [],
   "source": [
    "plt.figure(figsize=(6,8))\n",
    "plt.subplot(3,1,1)\n",
    "plt.plot(np.arange(1,len(energies)+1),energies,'o-')\n",
    "plt.ylabel('Total Energy (Ry)')\n",
    "plt.subplot(3,1,2)\n",
    "plt.plot(np.arange(1,len(bonds)+1),bonds,'o-')\n",
    "plt.ylabel('O-H Bond Length (a.u.)')\n",
    "plt.subplot(3,1,3)\n",
    "plt.semilogy(np.arange(1,len(forces)+1),forces,'o-')\n",
    "plt.ylabel('Total Force (Ry/a.u.)')\n",
    "plt.show()"
   ]
  },
  {
   "cell_type": "code",
   "execution_count": null,
   "metadata": {},
   "outputs": [],
   "source": [
    "deltaG = ( energy_solution - energy_vacuum ) * eV2kcal_mol\n",
    "print('The computed solvation free energy of a water molecule is = {:4.1f} kcal/mol'.format(deltaG))"
   ]
  },
  {
   "attachments": {},
   "cell_type": "markdown",
   "metadata": {},
   "source": [
    "### Digging in the Environ Parameters and Keywords"
   ]
  },
  {
   "attachments": {},
   "cell_type": "markdown",
   "metadata": {},
   "source": [
    "The input files of Environ that we have used so far contained very few keywords, as the `environ_type = 'water'` keyword takes care of setting most of the parameters automatically. In practice, the following would have been the manual way of specifying the same type of calculation. "
   ]
  },
  {
   "cell_type": "code",
   "execution_count": null,
   "metadata": {},
   "outputs": [],
   "source": [
    "%%bash\n",
    "  cat > environ.in << EOF\n",
    "&ENVIRON\n",
    "   !\n",
    "   verbose = 0\n",
    "   environ_thr = 1\n",
    "   env_static_permittivity = 78.3\n",
    "   env_pressure = -0.36\n",
    "   env_surface_tension = 47.9\n",
    "   !\n",
    "/\n",
    "&BOUNDARY\n",
    "   ! \n",
    "   solvent_mode = 'electronic'\n",
    "   rhomax = 0.005\n",
    "   rhomin = 0.0001\n",
    "   !\n",
    "/\n",
    "&ELECTROSTATIC\n",
    "   !\n",
    "   pbc_correction = 'parabolic'\n",
    "   pbc_dim = 0\n",
    "   !\n",
    "   solver = 'cg'\n",
    "   mix = 0.6\n",
    "   tol = 1.d-11\n",
    "   !\n",
    "/\n",
    "EOF"
   ]
  },
  {
   "attachments": {},
   "cell_type": "markdown",
   "metadata": {},
   "source": [
    "A possibility, in the following, could be to explore an alternative definition of the boundary between the environment and the system. Specifying a value of `solvent_mode = 'ionic'` allows to define a continuum region constructed using interlocking spheres centered on the nuclei (\"soft-spheres\") as described in G. Fisicaro, L. Genovese, O. Andreussi, S. Mandal, N.N. Nair, N. Marzari, and S.Goedecker, J. Chem. Theor. Comput. 13, 3829 (2017). Note that this different cavity relies on different parameters (including van der Waals radii for the different elements) and on a separate parametrization of the corresponding solvation model. The keyword `environ_type = 'water'` automatically sets these parameters for the SSCS (soft-sphere continuum solvation) model of Fisicaro et al."
   ]
  },
  {
   "cell_type": "code",
   "execution_count": null,
   "metadata": {},
   "outputs": [],
   "source": [
    "%%bash\n",
    "  cat > environ.in << EOF\n",
    "&ENVIRON\n",
    "   !\n",
    "   verbose = 0\n",
    "   environ_thr = 1\n",
    "   env_type = 'water'\n",
    "   !\n",
    "/\n",
    "&BOUNDARY\n",
    "   ! \n",
    "   solvent_mode = 'ionic'\n",
    "   !\n",
    "/\n",
    "&ELECTROSTATIC\n",
    "   !\n",
    "   pbc_correction = 'parabolic'\n",
    "   pbc_dim = 0\n",
    "   !\n",
    "   tol = 1.d-11\n",
    "   !\n",
    "/\n",
    "EOF"
   ]
  },
  {
   "attachments": {},
   "cell_type": "markdown",
   "metadata": {},
   "source": [
    "## Solvent-Aware Interface"
   ]
  },
  {
   "attachments": {},
   "cell_type": "markdown",
   "metadata": {},
   "source": [
    "This example shows how to use pw.x to calculate the energy of a water cluster (thanks to Nicolas Hörmann for the structure) using a solvent-aware interface, as described in O. Andreussi, N.G. Hörmann, F. Nattino, G. Fisicaro, S. Goedecker, and N. Marzari, J. Chem. Theory Comput. 15, 1996 (2019).\n",
    "\n",
    "This feature is particularly useful to model branched/open/porous systems, where pockets that are too small to fit a solvent molecule  should remain dielectric-free. \n",
    "\n",
    "Two calculations are carried out. The first calculation includes a standard interface between the quantum mechanical and the continuum region, such that the dielectric unphysically fills the small pocket in between the  water molecules. The second calculation models instead a solvent-aware interface, which prevents the dielectric continuum to enter the central 'hole' of the cluster."
   ]
  },
  {
   "cell_type": "code",
   "execution_count": null,
   "metadata": {},
   "outputs": [],
   "source": [
    "atoms = read('H2O_cluster.xyz')"
   ]
  },
  {
   "cell_type": "code",
   "execution_count": null,
   "metadata": {},
   "outputs": [],
   "source": [
    "atoms.set_cell(14. * np.identity(3))\n",
    "atoms.set_pbc((True, True, True))\n",
    "atoms.center()"
   ]
  },
  {
   "cell_type": "code",
   "execution_count": null,
   "metadata": {},
   "outputs": [],
   "source": [
    "view(atoms, viewer=\"x3d\")"
   ]
  },
  {
   "cell_type": "code",
   "execution_count": null,
   "metadata": {},
   "outputs": [],
   "source": [
    "pseudopotentials = {\n",
    "    \"H\":\"H.pbe-rrkjus.UPF\",\n",
    "    \"O\":\"O.pbe-rrkjus.UPF\"\n",
    "}"
   ]
  },
  {
   "cell_type": "code",
   "execution_count": null,
   "metadata": {},
   "outputs": [],
   "source": [
    "input_data = {\n",
    "    'control': {\n",
    "        'restart_mode': 'from_scratch',\n",
    "        'pseudo_dir': '../pseudos',\n",
    "        'calculation': 'scf',\n",
    "        'prefix': 'H2O_cluster'\n",
    "    },\n",
    "    'system': {\n",
    "        'ecutwfc': 30,\n",
    "        'ecutrho': 300\n",
    "    },\n",
    "    'electrons': {\n",
    "        'diagonalization':'david',\n",
    "        'conv_thr': 1.0e-8, \n",
    "        'mixing_beta': 0.4\n",
    "    }\n",
    "} \n",
    "\n",
    "calc = Espresso(\n",
    "    pseudopotentials=pseudopotentials,\n",
    "    tstress=True, tprnfor=True, \n",
    "    input_data = input_data,\n",
    "    kpts=(1,1,1),\n",
    "    koffset=(0,0,0))\n",
    "\n",
    "atoms.calc = calc"
   ]
  },
  {
   "cell_type": "code",
   "execution_count": null,
   "metadata": {},
   "outputs": [],
   "source": [
    "%%bash\n",
    "  cat > environ.in << EOF\n",
    "&ENVIRON\n",
    "   !\n",
    "   verbose = 1\n",
    "   environ_thr = 1\n",
    "   environ_type = 'water'\n",
    "   !\n",
    "/\n",
    "&BOUNDARY\n",
    "   !\n",
    "   solvent_mode = 'electronic'\n",
    "   !\n",
    "/\n",
    "&ELECTROSTATIC\n",
    "   !\n",
    "   pbc_correction = 'parabolic'\n",
    "   pbc_dim = 0\n",
    "   !\n",
    "   tol = 1.d-11\n",
    "   !\n",
    "/\n",
    "EOF"
   ]
  },
  {
   "cell_type": "code",
   "execution_count": null,
   "metadata": {},
   "outputs": [],
   "source": [
    "energy_no_sa = atoms.get_potential_energy()\n",
    "print('Total energy of the water cluster without solvent-aware = {:10.3f} eV'.format(energy_no_sa))"
   ]
  },
  {
   "cell_type": "code",
   "execution_count": null,
   "metadata": {},
   "outputs": [],
   "source": [
    "! cp espresso.pwo H2O_cluster_no.out"
   ]
  },
  {
   "cell_type": "code",
   "execution_count": null,
   "metadata": {},
   "outputs": [],
   "source": [
    "%%bash\n",
    "  cat > environ.in << EOF\n",
    "&ENVIRON\n",
    "   !\n",
    "   verbose = 1\n",
    "   environ_thr = 1\n",
    "   environ_type = 'water'\n",
    "   !\n",
    "/\n",
    "&BOUNDARY\n",
    "   !\n",
    "   solvent_mode = 'electronic'\n",
    "   filling_threshold = 0.85\n",
    "   solvent_radius = 2.6 \n",
    "   !\n",
    "/\n",
    "&ELECTROSTATIC\n",
    "   !\n",
    "   pbc_correction = 'parabolic'\n",
    "   pbc_dim = 0\n",
    "   !\n",
    "   tol = 1.d-11\n",
    "   !\n",
    "/\n",
    "EOF"
   ]
  },
  {
   "cell_type": "code",
   "execution_count": null,
   "metadata": {},
   "outputs": [],
   "source": [
    "input_data = {\n",
    "    'control': {\n",
    "        'restart_mode': 'from_scratch',\n",
    "        'pseudo_dir': '../pseudos',\n",
    "        'calculation': 'scf',\n",
    "        'prefix': 'H2O_cluster'\n",
    "    },\n",
    "    'system': {\n",
    "        'ecutwfc': 30,\n",
    "        'ecutrho': 300\n",
    "    },\n",
    "    'electrons': {\n",
    "        'diagonalization':'david',\n",
    "        'conv_thr': 1.0e-8, \n",
    "        'mixing_beta': 0.4\n",
    "    }\n",
    "} \n",
    "\n",
    "calc = Espresso(\n",
    "    pseudopotentials=pseudopotentials,\n",
    "    tstress=True, tprnfor=True, \n",
    "    input_data = input_data,\n",
    "    kpts=(1,1,1),\n",
    "    koffset=(0,0,0))\n",
    "\n",
    "atoms.calc = calc"
   ]
  },
  {
   "cell_type": "code",
   "execution_count": null,
   "metadata": {},
   "outputs": [],
   "source": [
    "energy_sa = atoms.get_potential_energy()\n",
    "print('Total energy of the water cluster with solvent-aware = {:10.3f} eV'.format(energy_sa))"
   ]
  },
  {
   "cell_type": "code",
   "execution_count": null,
   "metadata": {},
   "outputs": [],
   "source": [
    "! cp espresso.pwo H2O_cluster_sa.out"
   ]
  },
  {
   "cell_type": "code",
   "execution_count": null,
   "metadata": {},
   "outputs": [],
   "source": [
    "print('The difference due to solvent-aware is = {:4.3f}'.format(energy_sa-energy_no_sa))"
   ]
  },
  {
   "attachments": {},
   "cell_type": "markdown",
   "metadata": {},
   "source": [
    "## Running Environ as a Post-Processing Tool"
   ]
  },
  {
   "attachments": {},
   "cell_type": "markdown",
   "metadata": {},
   "source": [
    "This last example shows how to use Environ as a stand-alone program. You will need to compile the Environ/programs by typing `make` inside that folder. The compilation should generate a `driver` executable that can perform an environ calculation on a 'frozen' system (atoms and electronic density) specified in a cubefile. "
   ]
  },
  {
   "attachments": {},
   "cell_type": "markdown",
   "metadata": {},
   "source": [
    "For the purpose of this example, we can use the `system.cube` file included in this folder. However, this type of file can be generated relatively easily from a pw.x calculation with Environ, by setting the verbosity to 4 or higher and manually hacking the `electrons.cube` file generated as a result. The following three command cells and some manual editing (detailed in the following) can be skipped."
   ]
  },
  {
   "cell_type": "code",
   "execution_count": null,
   "metadata": {},
   "outputs": [],
   "source": [
    "%%bash\n",
    "  cat > environ.in << EOF\n",
    "&ENVIRON\n",
    "   !\n",
    "   verbose = 4\n",
    "   environ_thr = 1\n",
    "   environ_type = 'water'\n",
    "   environ_restart = .true.\n",
    "   !\n",
    "/\n",
    "&BOUNDARY\n",
    "   !\n",
    "   solvent_mode = 'electronic'\n",
    "   filling_threshold = 0.85\n",
    "   solvent_radius = 2.6 \n",
    "   !\n",
    "/\n",
    "&ELECTROSTATIC\n",
    "   !\n",
    "   pbc_correction = 'parabolic'\n",
    "   pbc_dim = 0\n",
    "   !\n",
    "   tol = 1.d-11\n",
    "   !\n",
    "/\n",
    "EOF"
   ]
  },
  {
   "cell_type": "code",
   "execution_count": null,
   "metadata": {},
   "outputs": [],
   "source": [
    "input_data = {\n",
    "    'control': {\n",
    "        'restart_mode': 'restart',\n",
    "        'pseudo_dir': '../pseudos',\n",
    "        'calculation': 'scf',\n",
    "        'prefix': 'H2O_cluster'\n",
    "    },\n",
    "    'system': {\n",
    "        'ecutwfc': 30,\n",
    "        'ecutrho': 300\n",
    "    },\n",
    "    'electrons': {\n",
    "        'diagonalization':'david',\n",
    "        'conv_thr': 1.0e-8, \n",
    "        'mixing_beta': 0.4\n",
    "    }\n",
    "} \n",
    "\n",
    "calc = Espresso(\n",
    "    pseudopotentials=pseudopotentials,\n",
    "    tstress=True, tprnfor=True, \n",
    "    input_data = input_data,\n",
    "    kpts=(1,1,1),\n",
    "    koffset=(0,0,0))\n",
    "\n",
    "atoms.calc = calc"
   ]
  },
  {
   "cell_type": "code",
   "execution_count": null,
   "metadata": {},
   "outputs": [],
   "source": [
    "energy = atoms.get_potential_energy()"
   ]
  },
  {
   "attachments": {},
   "cell_type": "markdown",
   "metadata": {},
   "source": [
    "As a result of the above cells, we have now generated several cubefiles, including one that contains the optimized electronic density, named `electrons.cube`. This file contains part of the information needed by Environ to perform its calculations, but unfortunately its header misses the information on the atoms, which is instead saved in the `dvtot.cube` file. In order to generate the file that Environ needs we will perform the following steps:\n",
    "1. Copy `electrons.cube` into our final file\n",
    "2. Cut and paste the header section from `dvtot.cube`\n",
    "3. Manually set the empty column near the atomic numbers with the charge of the ions (nuclei+core electrons)"
   ]
  },
  {
   "attachments": {},
   "cell_type": "markdown",
   "metadata": {},
   "source": [
    "Once we have a cubefile with all the relevant information, we can run the driver program of Environ to perform a frozen calculation, as follows:"
   ]
  },
  {
   "cell_type": "code",
   "execution_count": null,
   "metadata": {},
   "outputs": [],
   "source": [
    "! /Users/oliviero/PWSCF/espresso-git/Environ/programs/driver -n from_cube -i environ.in -c system.cube"
   ]
  },
  {
   "attachments": {},
   "cell_type": "markdown",
   "metadata": {},
   "source": [
    "Let us save the `boundary_solvent.cube` file generated by this simulation, so that we can compare it wwith its non-solvent-aware counterpart."
   ]
  },
  {
   "cell_type": "code",
   "execution_count": null,
   "metadata": {},
   "outputs": [],
   "source": [
    "boundary_sa = cubefile('boundary_solvent.cube')"
   ]
  },
  {
   "attachments": {},
   "cell_type": "markdown",
   "metadata": {},
   "source": [
    "Now we can reset the `environ.in` file for a non-solvent-aware simulation (note that the driver can accept any filename for the environ input, allowing you to have multiple input files to use in the same folder)"
   ]
  },
  {
   "cell_type": "code",
   "execution_count": null,
   "metadata": {},
   "outputs": [],
   "source": [
    "%%bash\n",
    "  cat > environ.in << EOF\n",
    "&ENVIRON\n",
    "   !\n",
    "   verbose = 4\n",
    "   environ_thr = 1\n",
    "   environ_type = 'water'\n",
    "   environ_restart = .true.\n",
    "   !\n",
    "/\n",
    "&BOUNDARY\n",
    "   !\n",
    "   solvent_mode = 'electronic'\n",
    "   !\n",
    "/\n",
    "&ELECTROSTATIC\n",
    "   !\n",
    "   pbc_correction = 'parabolic'\n",
    "   pbc_dim = 0\n",
    "   !\n",
    "   tol = 1.d-11\n",
    "   !\n",
    "/\n",
    "EOF"
   ]
  },
  {
   "cell_type": "code",
   "execution_count": null,
   "metadata": {},
   "outputs": [],
   "source": [
    "! /Users/oliviero/PWSCF/espresso-git/Environ/programs/driver -n from_cube -i environ.in -c system.cube"
   ]
  },
  {
   "cell_type": "code",
   "execution_count": null,
   "metadata": {},
   "outputs": [],
   "source": [
    "boundary_no = cubefile('boundary_solvent.cube')"
   ]
  },
  {
   "attachments": {},
   "cell_type": "markdown",
   "metadata": {},
   "source": [
    "We can now look at the boundary of the two calculations, with and without solvent-aware correction, along a line passing through the center of mass and directed along the x axis"
   ]
  },
  {
   "cell_type": "code",
   "execution_count": null,
   "metadata": {},
   "outputs": [],
   "source": [
    "x,y=boundary_sa.to_line(atoms.get_center_of_mass()*ang2bohr,0)\n",
    "plt.plot(x,y)\n",
    "x,y=boundary_no.to_line(atoms.get_center_of_mass()*ang2bohr,0)\n",
    "plt.plot(x,y)\n",
    "plt.show()"
   ]
  },
  {
   "attachments": {},
   "cell_type": "markdown",
   "metadata": {},
   "source": [
    "or visualize a contourplot passing through the same point and perpendicular to the z axis"
   ]
  },
  {
   "cell_type": "code",
   "execution_count": null,
   "metadata": {},
   "outputs": [],
   "source": [
    "plt.figure(figsize=(10,6))\n",
    "plt.subplot(1,2,1)\n",
    "xx,yy,zz=boundary_no.to_surface(atoms.get_center_of_mass()*ang2bohr,2)\n",
    "plt.axis('equal')\n",
    "plt.contourf(xx,yy,zz)\n",
    "plt.subplot(1,2,2)\n",
    "xx,yy,zz=boundary_sa.to_surface(atoms.get_center_of_mass()*ang2bohr,2)\n",
    "plt.axis('equal')\n",
    "plt.contourf(xx,yy,zz)\n",
    "plt.show()"
   ]
  }
 ],
 "metadata": {
  "kernelspec": {
   "display_name": "Python 3",
   "language": "python",
   "name": "python3"
  },
  "language_info": {
   "codemirror_mode": {
    "name": "ipython",
    "version": 3
   },
   "file_extension": ".py",
   "mimetype": "text/x-python",
   "name": "python",
   "nbconvert_exporter": "python",
   "pygments_lexer": "ipython3",
   "version": "3.9.6"
  },
  "orig_nbformat": 4
 },
 "nbformat": 4,
 "nbformat_minor": 2
}
