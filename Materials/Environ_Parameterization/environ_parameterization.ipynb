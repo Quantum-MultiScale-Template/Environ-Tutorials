{
 "cells": [
  {
   "cell_type": "markdown",
   "id": "faf113cd-1486-4509-8aeb-a652524289d6",
   "metadata": {},
   "source": [
    "# Parameterizing solvent models"
   ]
  },
  {
   "cell_type": "markdown",
   "id": "7df2e324-0717-44e6-b11e-145675d02bbe",
   "metadata": {},
   "source": [
    "## Tutorial setup"
   ]
  },
  {
   "cell_type": "markdown",
   "id": "2873a1d3-7e27-42d5-9a53-9bc99b674aa4",
   "metadata": {},
   "source": [
    "Import all the Python modules needed in this tutorial. Most of these are very common in scientific computing, some are popular tools in atomistic simulations."
   ]
  },
  {
   "cell_type": "code",
   "execution_count": null,
   "id": "ab4e322d-8664-4040-9115-97799294684b",
   "metadata": {},
   "outputs": [],
   "source": [
    "import os\n",
    "import numpy as np\n",
    "import matplotlib.pyplot as plt\n",
    "#\n",
    "# ASE is a very convenient module for setting up simulations on molecules and \n",
    "# bulk materials\n",
    "#\n",
    "from ase.io import read\n",
    "from ase.units import Rydberg, kcal, mol\n",
    "\n",
    "# Modified version of ASE's write_cube function which also writes atomic charges.\n",
    "# Original version always assigns zero to atomic charges.\n",
    "from ase_cube_mod import write_cube"
   ]
  },
  {
   "cell_type": "markdown",
   "id": "19bfedc4-1224-4f1a-97c6-57e74f10bcf0",
   "metadata": {},
   "source": [
    "## Reference data"
   ]
  },
  {
   "cell_type": "markdown",
   "id": "628d4080-2229-4831-97b1-bbe1c0778b58",
   "metadata": {},
   "source": [
    "When optimizing solvent model parameters, one of the most common types of reference data are free energies of solvation of small molecules in infinite dilution. This quantity is very straightforward to compute in continuum models, simply as the difference between the energies of the molecule in solution and in vacuum / gas phase.\n",
    "\n",
    "We have already prepared a small set of reference solvation energies and corresponding molecular geometries, which can be found under ./geometries/\n",
    "\n",
    "The energies and geometries were taken from the Minnesota Solvation Database (https://comp.chem.umn.edu/mnsol/) and 1.14*CM1A-LBCC atomic charges were obtained using LigParGen (https://zarbi.chem.yale.edu/ligpargen/)."
   ]
  },
  {
   "cell_type": "code",
   "execution_count": null,
   "id": "106b1b28-cec4-4688-9734-492309ac4654",
   "metadata": {},
   "outputs": [],
   "source": [
    "dG_solv = {\n",
    "    'ethanol': -5.01,\n",
    "    'phenol': -6.62,\n",
    "    'diethylether': -1.76,\n",
    "    'benzaldehyde': -4.02,\n",
    "    'acetone': -3.85,\n",
    "    'aceticacid': -6.7,\n",
    "    'ethylamine': -4.5,\n",
    "    'aniline': -5.49,\n",
    "    'chloroform': -1.07,\n",
    "    'ethylacetate': -3.1\n",
    "}"
   ]
  },
  {
   "cell_type": "markdown",
   "id": "0e2edb89-f0d2-4735-91dd-ea01105b2c23",
   "metadata": {},
   "source": [
    "## Setting up the simulations"
   ]
  },
  {
   "cell_type": "markdown",
   "id": "ee624425-f53b-42b6-9309-ae3e5e4c4d53",
   "metadata": {},
   "source": [
    "Let us make a work directory for each solute to keep things clean."
   ]
  },
  {
   "cell_type": "code",
   "execution_count": null,
   "id": "1a90e831-91f1-4def-872e-31fd58f288a0",
   "metadata": {},
   "outputs": [],
   "source": [
    "if not os.path.isdir('work'):\n",
    "    os.mkdir('work')\n",
    "for solute in dG_solv.keys():\n",
    "    dirname = 'work/{}'.format(solute)\n",
    "    if not os.path.isdir(dirname):\n",
    "        os.mkdir(dirname)"
   ]
  },
  {
   "cell_type": "markdown",
   "id": "c7757000-d976-4f35-9e4b-c4d7ae5df7b6",
   "metadata": {},
   "source": [
    "We need to define a simulation cell around each molecule and write it to a cube file, together with the geometry."
   ]
  },
  {
   "cell_type": "code",
   "execution_count": null,
   "id": "175e4b75-e93b-492e-89f9-cb083a4d6812",
   "metadata": {},
   "outputs": [],
   "source": [
    "def get_extent(atoms):\n",
    "    minval = np.min(atoms.get_positions(), axis=0)\n",
    "    maxval = np.max(atoms.get_positions(), axis=0)\n",
    "    return np.max(maxval-minval)"
   ]
  },
  {
   "cell_type": "code",
   "execution_count": null,
   "id": "83a8e4aa-eea0-4fdf-8257-6161b1a3054e",
   "metadata": {},
   "outputs": [],
   "source": [
    "for solute in dG_solv.keys():\n",
    "    atoms = read('geometries/{}.xyz'.format(solute))\n",
    "\n",
    "    # Add at 5 Angstrom to each side\n",
    "    extent = get_extent(atoms)\n",
    "    atoms.set_cell((10.+extent) * np.identity(3))\n",
    "    atoms.set_pbc((True, True, True))\n",
    "    atoms.center()\n",
    "\n",
    "    write_cube(open('work/{}/mol.cube'.format(solute), 'w'), atoms, [[[0.]]])"
   ]
  },
  {
   "cell_type": "markdown",
   "id": "28ad0210-7685-4dc8-bb27-0ad2cfb73eca",
   "metadata": {},
   "source": [
    "We know that the macroscopic dielectric permittivity of water at 298 K is 78.3, and its surface tension is 72 dyn/cm. Let us test how a solvent model with these values performs. We will ignore pressure for now.\n",
    "\n",
    "The solvation radius around each atom of the solute depends on its chemical element. Environ comes with different sets of base values for these radii and then scales them by a constant factor alpha. As a starting point, let us use the set that is based on the Universal Force Field (UFF) and set the scaling factor to 1."
   ]
  },
  {
   "cell_type": "code",
   "execution_count": null,
   "id": "7d0e450e-f73c-47b5-8fc9-69fb64c8d18b",
   "metadata": {},
   "outputs": [],
   "source": [
    "%%bash\n",
    "  cat > environ.in << EOF\n",
    "&ENVIRON\n",
    "   !\n",
    "   verbose = 0\n",
    "   env_electrostatic = .TRUE.\n",
    "   env_ecut = 100.\n",
    "   env_static_permittivity = 78.3\n",
    "   env_surface_tension = 72.0  ! in dyn/cm\n",
    "   env_pressure = 0.0   ! in GPa\n",
    "   !\n",
    "/\n",
    "&BOUNDARY\n",
    "   !\n",
    "   solvent_mode = 'ionic'\n",
    "   radius_mode = 'uff'\n",
    "   alpha = 1.0\n",
    "   softness = 0.5  ! Spread of the transition region between solvent and cavity\n",
    "   !\n",
    "/\n",
    "&ELECTROSTATIC\n",
    "   !\n",
    "   pbc_correction = 'parabolic'\n",
    "   pbc_dim = 0\n",
    "   !\n",
    "   tol = 1.d-2\n",
    "   !\n",
    "/\n",
    "EOF\n",
    "\n",
    "for dir in work/*/\n",
    "do\n",
    "    cp environ.in $dir\n",
    "done\n",
    "#clean up\n",
    "rm environ.in"
   ]
  },
  {
   "cell_type": "markdown",
   "id": "ad302da7-b481-4055-9c67-85d3db14aa5b",
   "metadata": {},
   "source": [
    "## Running the simulations"
   ]
  },
  {
   "cell_type": "markdown",
   "id": "2f40c690-48aa-44f4-a22b-ce835df555a7",
   "metadata": {},
   "source": [
    "That's all we needed to set up our calculations. Let's run them!"
   ]
  },
  {
   "cell_type": "code",
   "execution_count": null,
   "id": "64e1c3e8-ee57-4de6-b90c-01ab9ba24996",
   "metadata": {},
   "outputs": [],
   "source": [
    "%%bash\n",
    "\n",
    "export environ_bin=/work/data/programs_new/Environ/programs/driver\n",
    "\n",
    "cd work\n",
    "for dir in *\n",
    "do\n",
    "    cd $dir\n",
    "    echo ''\n",
    "    echo Running $dir\n",
    "    orterun -n 4 $environ_bin -n from_cube -c mol.cube --no-density > environ.out\n",
    "    echo ''\n",
    "    grep 'total energy' environ.out\n",
    "    echo ''\n",
    "    echo '+++++++++++++++++++++++++++++++++++++++++++++++++++++'\n",
    "    cd ..\n",
    "done\n",
    "cd .."
   ]
  },
  {
   "cell_type": "markdown",
   "id": "95b66925-b0eb-48fa-942a-a7ff04ad8cd2",
   "metadata": {},
   "source": [
    "## Evaluating results"
   ]
  },
  {
   "cell_type": "markdown",
   "id": "ed2696e2-53ce-45c3-8b42-4a7a05ccac71",
   "metadata": {},
   "source": [
    "Getting a quantity that we can compare to experimental values is very straightforward. The free energy of solvation in infinite dilution is simply the (free) energy difference between the molecule in solution and in vacuum. When running Environ self-consistently with DFT, we would have to repeat our calculations in vacuum. In this tutorial where we use constant atomic charges, it is even simpler. Since the internal energy of the molecule does not change between vacuum and solution, we can simply take the solvent energy contribution from Environ's output.\n",
    "\n",
    "(NB: If we were really strict, we would still rerun all simulations with the solvent turned off but the pbc correction turned on to correct for its energy contribution. This contributions is, however, relatively small and we will ignore if for this tutorial.)"
   ]
  },
  {
   "cell_type": "code",
   "execution_count": null,
   "id": "40ab0bc3-c603-4fe0-a4e0-b27b1fb81302",
   "metadata": {},
   "outputs": [],
   "source": [
    "dG_exp = []\n",
    "dG_calc = []\n",
    "for key, val in dG_solv.items():\n",
    "    dG_exp.append(val)\n",
    "    with open('work/{}/environ.out'.format(key), 'r') as ifile:\n",
    "        for line in reversed(ifile.readlines()):\n",
    "            if line.startswith('     total energy'):\n",
    "                \n",
    "                # Convert to units used in Minnesota Solvation Database\n",
    "                dG_this = float(line.split()[-2]) * Rydberg / (kcal/mol)\n",
    "                \n",
    "                dG_calc.append(dG_this)\n",
    "                break\n",
    "dG_exp = np.array(dG_exp)\n",
    "dG_calc = np.array(dG_calc)\n",
    "\n",
    "RMSE = np.sqrt(np.mean((dG_exp-dG_calc)**2))\n",
    "print('RMSE = {:1.2f} kcal/mol'.format(RMSE))"
   ]
  },
  {
   "cell_type": "code",
   "execution_count": null,
   "id": "1df98c59-74cc-46e3-8b49-e12bd7e80fff",
   "metadata": {},
   "outputs": [],
   "source": [
    "minplot = min(np.min(dG_exp), np.min(dG_calc)) - 0.2\n",
    "maxplot = max(np.max(dG_exp), np.max(dG_calc)) + 0.2\n",
    "\n",
    "plt.plot(dG_exp, dG_calc, 'x')\n",
    "\n",
    "# Visual guideline for perfect fit\n",
    "plt.plot([minplot, maxplot], [minplot, maxplot], '--', color='grey')\n",
    "\n",
    "plt.xlim(minplot, maxplot)\n",
    "plt.ylim(minplot, maxplot)\n",
    "\n",
    "plt.xlabel(r'experimental $\\Delta G_\\mathrm{{solv}}$ in kcal/mol')\n",
    "plt.ylabel(r'calculated $\\Delta G_\\mathrm{{solv}}$ in kcal/mol')\n",
    "\n",
    "plt.gca().set_aspect('equal')"
   ]
  },
  {
   "cell_type": "markdown",
   "id": "9399143e-d18b-4de5-a126-a8cebb81e26b",
   "metadata": {},
   "source": [
    "## Improving the model"
   ]
  },
  {
   "cell_type": "markdown",
   "id": "2d1f4c76-806a-4df3-8ac2-2c9b72fd28f8",
   "metadata": {},
   "source": [
    "As you can see, using just the experimental permittivity and surface tension does not predict free energies of solvation very well. The high surface tension of water leads to an overestimation of repulsive interactions and neglects attractive van-der-Waals interactions between solute and solvent.\n",
    "\n",
    "**Can you find a better parameterization?** Play around with the surface tension, pressure, and radius scaling factor alpha. Hint: The surface tension and pressure in these models are commonly treated as effective parameters with no physical interpretation. As such, they can even be negative.\n",
    "\n",
    "You have the full power of scipy's optimization tools at your disposal!"
   ]
  },
  {
   "cell_type": "code",
   "execution_count": null,
   "id": "55c41805-a7c6-4db9-a7d2-bf19af8767bd",
   "metadata": {},
   "outputs": [],
   "source": []
  }
 ],
 "metadata": {
  "kernelspec": {
   "display_name": "Python 3 (ipykernel)",
   "language": "python",
   "name": "python3"
  },
  "language_info": {
   "codemirror_mode": {
    "name": "ipython",
    "version": 3
   },
   "file_extension": ".py",
   "mimetype": "text/x-python",
   "name": "python",
   "nbconvert_exporter": "python",
   "pygments_lexer": "ipython3",
   "version": "3.9.10"
  }
 },
 "nbformat": 4,
 "nbformat_minor": 5
}
