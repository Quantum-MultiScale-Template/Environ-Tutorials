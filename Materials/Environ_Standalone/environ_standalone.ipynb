{
 "cells": [
  {
   "cell_type": "markdown",
   "metadata": {},
   "source": [
    "# Using Environ for Solvation Effects on Isolated Systems"
   ]
  },
  {
   "cell_type": "markdown",
   "metadata": {},
   "source": [
    "## Tutorial Setup"
   ]
  },
  {
   "cell_type": "markdown",
   "metadata": {},
   "source": [
    "Import all the Python modules needed in this tutorial. Most of these are very common in scientific computing, some are popular tools in atomistic simulations."
   ]
  },
  {
   "cell_type": "code",
   "execution_count": null,
   "metadata": {},
   "outputs": [],
   "source": [
    "import os\n",
    "import numpy as np\n",
    "import matplotlib.pyplot as plt\n",
    "#\n",
    "# ASE is a very convenient module for setting up simulations on molecules and \n",
    "# bulk materials\n",
    "#\n",
    "from ase.io import read\n",
    "from ase.io.cube import read_cube\n",
    "from ase.visualize import view\n",
    "\n",
    "# Modified version of ASE's write_cube function which also writes atomic charges.\n",
    "# Original version always assigns zero to atomic charges.\n",
    "from ase_cube_mod import write_cube"
   ]
  },
  {
   "cell_type": "markdown",
   "metadata": {},
   "source": [
    "## Modeling a single molecule in solution"
   ]
  },
  {
   "cell_type": "markdown",
   "metadata": {},
   "source": [
    "Probably the most straightforward application of continuum embedding is modeling the solvation of a single molecule in infinite dilution. In this tutorial, we will use a single water molecule as our solute. We will use the popular TIP3P model of water for the molecular geometry and atomic charges. We have already prepared everything in the file tip3p.xyz."
   ]
  },
  {
   "cell_type": "code",
   "execution_count": null,
   "metadata": {},
   "outputs": [],
   "source": [
    "atoms = read('tip3p.xyz')\n",
    "view(atoms, viewer='x3d')"
   ]
  },
  {
   "cell_type": "markdown",
   "metadata": {},
   "source": [
    "The .xyz file defines only a single isolated molecule. However, Environ internally uses a formalism for periodic systems, so we need to put our molecule in a periodic simulation cell. For simplicity, but also to ensure a better behaviour of the electrostatics interactions, a cubic cell is the best choice to approximate isolated systems. "
   ]
  },
  {
   "cell_type": "code",
   "execution_count": null,
   "metadata": {},
   "outputs": [],
   "source": [
    "atoms.set_cell(15. * np.identity(3))\n",
    "atoms.set_pbc((True, True, True))\n",
    "atoms.center()"
   ]
  },
  {
   "cell_type": "markdown",
   "metadata": {},
   "source": [
    "We can now write the first of two input files for Environ, which will contain all information about the solute and the simulation cell. Environ uses the .cube file format for this purpose. This format contains the simulation cell and atomic positions and charges. \n",
    "\n",
    "Additionally, it can also contain a continuous electron density on a grid which fills the entire cell. For ths tutorial, we use only the atomic charges. We tell Environ to read only the cell information and atomic charges and positions while ignoring the grid information and volumetric data by passing only a single data point.\n",
    "\n",
    "(NB: When using Environ self-consistently with DFT, it will receive this information from the DFT program. Only the second input file environ.in, which we discuss further below, is needed in that case.)"
   ]
  },
  {
   "cell_type": "code",
   "execution_count": null,
   "metadata": {},
   "outputs": [],
   "source": [
    "write_cube(open('tip3p.cube', 'w'), atoms, [[[0.]]])"
   ]
  },
  {
   "cell_type": "markdown",
   "metadata": {},
   "source": [
    "With the solute defined, we can now turn our attention to the solvent. The solvent model as well as all numerical methods and parameters are defined in the input file environ.in. For this tutorial, we will use the soft-sphere continuum solvation (SSCS) model with standard parameters for water as a solvent.\n",
    "\n",
    "Additionally, we will use a periodic boundary correction which removes the spurious interaction of the solute with its periodic images in neighboring cells (Environ needs periodic boundary conditions purely for numerical reasons. We are, in this example, not actually interested in a periodic system, so we need to remove periodic interactions.)"
   ]
  },
  {
   "cell_type": "code",
   "execution_count": null,
   "metadata": {},
   "outputs": [],
   "source": [
    "%%bash\n",
    "  cat > environ.in << EOF\n",
    "&ENVIRON\n",
    "   !\n",
    "   verbose = 4  ! Write out boundary function, potential, etc. Slows down\n",
    "                ! Environ noticeably and can take a lot of disk space.\n",
    "                ! Only use this when you actually need it!\n",
    "   !\n",
    "   env_electrostatic = .TRUE.\n",
    "   environ_type = 'water'\n",
    "   env_ecut = 100.  ! Defines grid density; higher value = denser grid\n",
    "   !\n",
    "/\n",
    "&BOUNDARY\n",
    "   !\n",
    "   solvent_mode = 'ionic'  ! Define cavity based on atomic positions (=SSCS) \n",
    "   !\n",
    "/\n",
    "&ELECTROSTATIC\n",
    "   !\n",
    "   pbc_correction = 'parabolic'\n",
    "   pbc_dim = 0  ! 0 = isolated molecule, 2 = surface slab\n",
    "   !\n",
    "   tol = 1.d-2\n",
    "   !\n",
    "/\n",
    "EOF"
   ]
  },
  {
   "cell_type": "markdown",
   "metadata": {},
   "source": [
    "That's all we need to set up our first Environ calculation!"
   ]
  },
  {
   "cell_type": "code",
   "execution_count": null,
   "metadata": {},
   "outputs": [],
   "source": [
    "%%bash\n",
    "export environ_bin=/work/data/programs_new/Environ/programs/driver\n",
    "orterun -n 4 $environ_bin -n from_cube -c tip3p.cube --no-density | tee environ.out # --force to also compute solvent contribution to atomic forces"
   ]
  },
  {
   "cell_type": "markdown",
   "metadata": {},
   "source": [
    "## Visualizing results"
   ]
  },
  {
   "cell_type": "markdown",
   "metadata": {},
   "source": [
    "Above, we set Environ to write some quantities like the boundary function and the solvent potential to cube files. We can now visualize them."
   ]
  },
  {
   "cell_type": "code",
   "execution_count": null,
   "metadata": {},
   "outputs": [],
   "source": [
    "cube_boundary = read_cube(open('boundary_solvent.cube', 'r'))\n",
    "\n",
    "# Get 2D cross section. Because we centered the molecule in the cell, we can simply take the central slice of the 3D data\n",
    "data_shape = cube_boundary['data'].shape\n",
    "center_ind = int(data_shape[2]/2)\n",
    "crosssec_boundary = cube_boundary['data'][:,:,center_ind].T\n",
    "\n",
    "# Create 2D grid to plot\n",
    "x = np.linspace(0., cube_boundary['atoms'].cell[0,0], data_shape[0]+1)[:-1]\n",
    "y = np.linspace(0., cube_boundary['atoms'].cell[1,1], data_shape[1]+1)[:-1]\n",
    "X, Y = np.meshgrid(x, y)\n",
    "\n",
    "# Plot cross section\n",
    "plt.pcolormesh(X, Y, crosssec_boundary, cmap='bwr', vmin=0., vmax=2., rasterized=True)\n",
    "\n",
    "# Draw simple ball and stick model of molecule\n",
    "pos = atoms.get_positions()\n",
    "colors = ['red', 'grey', 'grey']\n",
    "radii = [100., 50., 50.]\n",
    "plt.plot([pos[0,0], pos[1,0]], [pos[0,1], pos[1,1]], '-k', linewidth=3.)\n",
    "plt.plot([pos[0,0], pos[2,0]], [pos[0,1], pos[2,1]], '-k', linewidth=3.)\n",
    "plt.scatter(pos[:,0], pos[:,1], c=colors, marker='o', zorder=1000, edgecolors='k', s=radii)\n",
    "\n",
    "plt.title('Boundary function')\n",
    "plt.gca().set_aspect('equal')\n",
    "plt.axis('off')"
   ]
  },
  {
   "cell_type": "code",
   "execution_count": null,
   "metadata": {},
   "outputs": [],
   "source": [
    "cube_pot = read_cube(open('dvtot.cube', 'r'))\n",
    "\n",
    "# Get 2D cross section. Because we centered the molecule in the cell, we can simply take the central slice of the 3D data\n",
    "crosssec_pot = cube_pot['data'][:,:,center_ind].T\n",
    "vmax = np.max(np.abs(crosssec_pot))\n",
    "\n",
    "# Plot cross section; Environ internally uses the sign convention from electronic structure theory where\n",
    "# electrons are positive, and their potentials accordingly. Flip sign here for more conventional image.\n",
    "plt.pcolormesh(X, Y, -crosssec_pot, cmap='seismic', vmin=-vmax, vmax=vmax, rasterized=True)\n",
    "\n",
    "# Draw simple ball and stick model of molecule\n",
    "plt.plot([pos[0,0], pos[1,0]], [pos[0,1], pos[1,1]], '-k', linewidth=3.)\n",
    "plt.plot([pos[0,0], pos[2,0]], [pos[0,1], pos[2,1]], '-k', linewidth=3.)\n",
    "plt.scatter(pos[:,0], pos[:,1], c=colors, marker='o', zorder=1000, edgecolors='k', s=radii)\n",
    "\n",
    "plt.title('Solvent potential')\n",
    "plt.gca().set_aspect('equal')\n",
    "plt.axis('off')"
   ]
  },
  {
   "cell_type": "code",
   "execution_count": null,
   "metadata": {},
   "outputs": [],
   "source": []
  }
 ],
 "metadata": {
  "kernelspec": {
   "display_name": "Python 3 (ipykernel)",
   "language": "python",
   "name": "python3"
  },
  "language_info": {
   "codemirror_mode": {
    "name": "ipython",
    "version": 3
   },
   "file_extension": ".py",
   "mimetype": "text/x-python",
   "name": "python",
   "nbconvert_exporter": "python",
   "pygments_lexer": "ipython3",
   "version": "3.9.10"
  }
 },
 "nbformat": 4,
 "nbformat_minor": 4
}
