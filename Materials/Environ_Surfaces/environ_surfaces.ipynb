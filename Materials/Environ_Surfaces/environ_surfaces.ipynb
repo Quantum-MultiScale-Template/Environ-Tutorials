{
 "cells": [
  {
   "attachments": {},
   "cell_type": "markdown",
   "metadata": {},
   "source": [
    "# Using Environ for Solvent and Electrolyte Effects on Slabs"
   ]
  },
  {
   "attachments": {},
   "cell_type": "markdown",
   "metadata": {},
   "source": [
    "## Tutorial Setup"
   ]
  },
  {
   "attachments": {},
   "cell_type": "markdown",
   "metadata": {},
   "source": [
    "Import all the Python modules needed in this tutorial. Most of these are very common in scientific computing, some are popular tools in atomistic simulations."
   ]
  },
  {
   "cell_type": "code",
   "execution_count": null,
   "metadata": {},
   "outputs": [],
   "source": [
    "import os\n",
    "import numpy as np\n",
    "import matplotlib.pyplot as plt\n",
    "#\n",
    "# ASE is a very convenient module for setting up simulations on molecules and \n",
    "# bulk materials\n",
    "#\n",
    "from ase.build import molecule, fcc111, fcc100, add_adsorbate\n",
    "from ase.visualize import view\n",
    "from ase.calculators.espresso import Espresso"
   ]
  },
  {
   "attachments": {},
   "cell_type": "markdown",
   "metadata": {},
   "source": [
    "Setting up environment variables that are needed in order to submit simulations using Quantum Espresso through ASE"
   ]
  },
  {
   "cell_type": "code",
   "execution_count": null,
   "metadata": {},
   "outputs": [],
   "source": [
    "os.environ['ASE_ESPRESSO_COMMAND'] = \"mpirun -np 4 /Users/oliviero/PWSCF/espresso-git/bin/pw.x --environ -in PREFIX.pwi > PREFIX.pwo\"\n",
    "os.environ['OMP_NUM_THREADS'] = \"1\""
   ]
  },
  {
   "attachments": {},
   "cell_type": "markdown",
   "metadata": {},
   "source": [
    "Some basic constants that may be useful later in the tutorials"
   ]
  },
  {
   "cell_type": "code",
   "execution_count": null,
   "metadata": {},
   "outputs": [],
   "source": [
    "eV2Ry = 13.605662285137 # energy conversion factor\n",
    "eV2kcal_mol = 23.0609 # energy conversion factor\n",
    "bohr2ang = 0.5291772 # length conversion factor\n",
    "ang2bohr = 1./bohr2ang"
   ]
  },
  {
   "attachments": {},
   "cell_type": "markdown",
   "metadata": {},
   "source": [
    "## Local Functions and Classes Used for the Tutorial"
   ]
  },
  {
   "attachments": {},
   "cell_type": "markdown",
   "metadata": {},
   "source": [
    "Basic functions to extract data from pw.x output files"
   ]
  },
  {
   "cell_type": "code",
   "execution_count": null,
   "metadata": {},
   "outputs": [],
   "source": [
    "def get_total_energy(filename='espresso.pwo'):\n",
    "    \"\"\"\n",
    "    Given a filename corresponding to a pw.x output, \n",
    "    extract the total energies from each scf calculation\n",
    "\n",
    "    Input Variables:\n",
    "        filename = name of pw.x output file\n",
    "    \n",
    "    Output Variables:\n",
    "        energies = list of floats\n",
    "    \"\"\"\n",
    "    energies=[]\n",
    "    lines = [line for line in open(filename, 'r')]\n",
    "    for line in lines:\n",
    "        if line.strip().startswith('!'):\n",
    "            energies.append(float(line.split()[4]))\n",
    "    return energies\n",
    "\n",
    "def get_scf_energy(filename='espresso.pwo'):\n",
    "    \"\"\"\n",
    "    Given a filename corresponding to a pw.x output, \n",
    "    extract the energies from each scf step\n",
    "\n",
    "    Input Variables:\n",
    "        filename = name of pw.x output file\n",
    "    \n",
    "    Output Variables:\n",
    "        energies = list of floats\n",
    "    \"\"\"\n",
    "    energies=[]\n",
    "    lines = [line for line in open(filename, 'r')]\n",
    "    for line in lines:\n",
    "        if line.strip().startswith('total energy'):\n",
    "            energies.append(float(line.split()[3]))\n",
    "    return energies\n",
    "\n",
    "def get_Fermi_energy(filename='espresso.pwo'):\n",
    "    \"\"\"\n",
    "    Given a filename corresponding to a pw.x output, \n",
    "    extract the Fermi energies from each scf cycle\n",
    "\n",
    "    Input Variables:\n",
    "        filename = name of pw.x output file\n",
    "    \n",
    "    Output Variables:\n",
    "        Fermi energies = list of floats (in eV)\n",
    "    \"\"\"\n",
    "    energies=[]\n",
    "    lines = [line for line in open(filename, 'r')]\n",
    "    for line in lines:\n",
    "        if line.strip().startswith('the Fermi energy'):\n",
    "            energies.append(float(line.split()[4]))\n",
    "    return energies\n",
    "\n",
    "def get_scf_accuracy(filename='espresso.pwo'):\n",
    "    \"\"\"\n",
    "    Given a filename corresponding to a pw.x output, \n",
    "    extract the energies from each scf step\n",
    "\n",
    "    Input Variables:\n",
    "        filename = name of pw.x output file\n",
    "    \n",
    "    Output Variables:\n",
    "        energies = list of floats\n",
    "    \"\"\"\n",
    "    accuracies=[]\n",
    "    lines = [line for line in open(filename, 'r')]\n",
    "    for line in lines:\n",
    "        if line.strip().startswith('estimated scf accuracy'):\n",
    "            accuracies.append(float(line.split()[4]))\n",
    "    return accuracies\n",
    "\n",
    "def get_total_force(filename='espresso.pwo'):\n",
    "    \"\"\"\n",
    "    Given a filename corresponding to a pw.x output, \n",
    "    extract the total force acting on the atoms from each scf calculation\n",
    "\n",
    "    Input Variables:\n",
    "        filename = name of pw.x output file\n",
    "    \n",
    "    Output Variables:\n",
    "        forces = list of floats\n",
    "    \"\"\"\n",
    "    forces=[]\n",
    "    lines = [line for line in open(filename, 'r')]\n",
    "    for line in lines:\n",
    "        if line.strip().startswith('Total force'):\n",
    "            forces.append(float(line.split()[3]))\n",
    "    return forces\n",
    "\n",
    "def get_bond_length(i,j,filename='espresso.pwo'):\n",
    "    \"\"\"\n",
    "    Given a filename corresponding to a pw.x output, and the indexes of two\n",
    "    atoms in the simulation (using Python notation, starting from 0)\n",
    "    extract the bond length for each scf step in the simulation\n",
    "\n",
    "    Input Variables:\n",
    "        i = index of first atom\n",
    "        j = index of second atom\n",
    "        filename = name of pw.x output file\n",
    "    \n",
    "    Output Variables:\n",
    "        bonds = list of floats\n",
    "    \"\"\"\n",
    "    bonds=[]\n",
    "    ri = np.zeros(3)\n",
    "    rj = np.zeros(3)\n",
    "    lines = [line for line in open(filename, 'r')]\n",
    "    for line in lines:\n",
    "        if line.strip().startswith('number of atoms'):\n",
    "            nat = int(line.split()[4])\n",
    "            break\n",
    "    if i < 0 or i >= nat : \n",
    "        print('Error, index i must be >= 0 and < nat')\n",
    "        return\n",
    "    if j < 0 or j >= nat : \n",
    "        print('Error, index j must be >= 0 and < nat')\n",
    "        return\n",
    "    if i == j : \n",
    "        print('Error, indexes i and j must be different')\n",
    "        return\n",
    "    iat = -1\n",
    "    for line in lines:\n",
    "        if iat >= 0 and iat < nat : \n",
    "            if iat == i : ri = np.array([line.split()[1:4]],dtype=float)\n",
    "            if iat == j : rj = np.array([line.split()[1:4]],dtype=float)\n",
    "            iat += 1 \n",
    "        if iat == nat : \n",
    "            bonds.append(np.sqrt(np.sum((ri-rj)**2)))\n",
    "            iat = -1\n",
    "        if line.strip().startswith('ATOMIC_POSITIONS'):\n",
    "            iat = 0\n",
    "    return bonds"
   ]
  },
  {
   "attachments": {},
   "cell_type": "markdown",
   "metadata": {},
   "source": [
    "Environ-specific function to retrieve the shift in energies and potential due to Gaussian-smeared nuclei"
   ]
  },
  {
   "cell_type": "code",
   "execution_count": null,
   "metadata": {},
   "outputs": [],
   "source": [
    "def get_Gaussian_shift(filename='espresso.pwo'):\n",
    "    \"\"\"\n",
    "    Given a filename corresponding to a pw.x output, \n",
    "    extract the potential shift due to the Gaussin-smeared nuclei \n",
    "    used by Environ\n",
    "\n",
    "    Input Variables:\n",
    "        filename = name of pw.x output file\n",
    "    \n",
    "    Output Variables:\n",
    "        energy shift = list of floats (in eV)\n",
    "    \"\"\"\n",
    "    shifts=[]\n",
    "    lines = [line for line in open(filename, 'r')]\n",
    "    for line in lines:\n",
    "        if line.strip().startswith('the potential shift due'):\n",
    "            shifts.append(float(line.split()[9]))\n",
    "    return shifts"
   ]
  },
  {
   "attachments": {},
   "cell_type": "markdown",
   "metadata": {},
   "source": [
    "Cubefile visualization tools"
   ]
  },
  {
   "cell_type": "code",
   "execution_count": null,
   "metadata": {},
   "outputs": [],
   "source": [
    "class cubefile():\n",
    "    \"\"\"\n",
    "    Class to read and manipulate cubefiles\n",
    "    \"\"\"\n",
    "\n",
    "    def __init__(this,filename,delta=1.e-5):\n",
    "        lines = [line for line in open(filename, 'r')]\n",
    "        this.nat = int(lines[2].split()[0])\n",
    "        this.origin = np.array(lines[2].split()[1:4],dtype=float)\n",
    "        this.n = np.zeros(3,dtype=int)\n",
    "        this.dgrid = np.zeros(3)\n",
    "        for i in range(3):\n",
    "            this.n[i] = int(lines[3+i].split()[0])\n",
    "            this.dgrid[i] = float(lines[3+i].split()[i+1])\n",
    "        this.atmnum = np.zeros(this.nat,dtype=int)\n",
    "        this.atmchg = np.zeros(this.nat)\n",
    "        this.atmpos = np.zeros((3,this.nat))\n",
    "        for i in range(this.nat):\n",
    "            this.atmnum[i] = int(lines[6+i].split()[0])\n",
    "            this.atmchg[i] = float(lines[6+i].split()[1])\n",
    "            this.atmpos[:,i] = np.array(lines[6+i].split()[2:5],dtype=float)\n",
    "        this.ntot = this.n[0]*this.n[1]*this.n[2]\n",
    "        this.data = np.zeros(this.ntot) \n",
    "        i = 0\n",
    "        for line in lines[6+this.nat:-1] : \n",
    "            this.data[i:i+6]=[ float(s) for s in line.split()]\n",
    "            i += 6\n",
    "        this.data[i:]=[ float(s) for s in line.split()]\n",
    "        this.data = this.data.reshape((this.n[0],this.n[1],this.n[2]))\n",
    "        this.r=np.zeros((3,this.n[0],this.n[1],this.n[2]))\n",
    "        this.x=np.arange(0.,this.dgrid[0]*this.n[0]-delta,this.dgrid[0])+this.origin[0]\n",
    "        this.y=np.arange(0.,this.dgrid[1]*this.n[1]-delta,this.dgrid[1])+this.origin[1]\n",
    "        this.z=np.arange(0.,this.dgrid[2]*this.n[2]-delta,this.dgrid[2])+this.origin[2]\n",
    "        this.r[0],this.r[1],this.r[2]=np.meshgrid(this.x,this.y,this.z,indexing='ij')\n",
    "\n",
    "    def to_line(this,center,axis):\n",
    "        icenter = np.rint(center/this.dgrid).astype('int')\n",
    "        icenter = icenter - this.n * np.trunc(icenter//this.n).astype('int') \n",
    "        if axis == 0 :\n",
    "            axis = this.r[0,:,icenter[1],icenter[2]]\n",
    "            value = this.data[:,icenter[1],icenter[2]]\n",
    "        elif axis == 1 :\n",
    "            axis = this.r[1,icenter[0],:,icenter[2]]\n",
    "            value = this.data[icenter[0],:,icenter[2]]\n",
    "        elif axis == 2 :\n",
    "            axis = this.r[2,icenter[0],icenter[1],:]\n",
    "            value = this.data[icenter[0],icenter[1],:]\n",
    "        return axis,value\n",
    "    \n",
    "    def to_line_planar_average(this,center,axis):\n",
    "        icenter = np.rint(center/this.dgrid).astype('int')\n",
    "        icenter = icenter - this.n * np.trunc(icenter//this.n).astype('int') \n",
    "        if axis == 0 :\n",
    "            axis = this.r[0,:,icenter[1],icenter[2]]\n",
    "            value = np.mean(this.data,(1,2))\n",
    "        elif axis == 1 :\n",
    "            axis = this.r[1,icenter[0],:,icenter[2]]\n",
    "            value = np.mean(this.data,(0,2))\n",
    "        elif axis == 2 :\n",
    "            axis = this.r[2,icenter[0],icenter[1],:]\n",
    "            value = np.mean(this.data,(0,1))\n",
    "        return axis,value\n",
    "    \n",
    "    def to_surface(this,center,axis):\n",
    "        icenter = np.rint(center/this.dgrid).astype('int')\n",
    "        icenter = icenter - this.n * np.trunc(icenter//this.n).astype('int') \n",
    "        if axis == 0 :\n",
    "            xx = this.r[1,icenter[0],:,:]\n",
    "            yy = this.r[2,icenter[0],:,:]\n",
    "            zz = this.data[icenter[0],:,:]\n",
    "        elif axis == 1 :\n",
    "            xx = this.r[0,:,icenter[1],:]\n",
    "            yy = this.r[2,:,icenter[1],:]\n",
    "            zz = this.data[:,icenter[1],:]\n",
    "        elif axis == 2 :\n",
    "            xx = this.r[0,:,:,icenter[2]]\n",
    "            yy = this.r[1,:,:,icenter[2]]\n",
    "            zz = this.data[:,:,icenter[2]]\n",
    "        return xx,yy,zz"
   ]
  },
  {
   "attachments": {},
   "cell_type": "markdown",
   "metadata": {},
   "source": [
    "## Modeling a Pt (111) Surface with a CO Adsorbate"
   ]
  },
  {
   "cell_type": "markdown",
   "metadata": {},
   "source": []
  },
  {
   "cell_type": "code",
   "execution_count": null,
   "metadata": {},
   "outputs": [],
   "source": [
    "slab = fcc111('Pt', size=(2,2,2), a=3.98, vacuum=7.5, orthogonal=True)\n",
    "co = molecule('CO')\n",
    "add_adsorbate(slab,co,3.6,'ontop')"
   ]
  },
  {
   "cell_type": "code",
   "execution_count": null,
   "metadata": {},
   "outputs": [],
   "source": [
    "view(slab, viewer=\"x3d\")"
   ]
  },
  {
   "cell_type": "code",
   "execution_count": null,
   "metadata": {},
   "outputs": [],
   "source": [
    "pseudopotentials = {\n",
    "    \"C\":\"C.pbe-rrkjus.UPF\",\n",
    "    \"O\":\"O.pbe-rrkjus.UPF\",\n",
    "    \"Pt\":\"Pt.pbe-n-rrkjus_psl.0.1.UPF\"\n",
    "}"
   ]
  },
  {
   "cell_type": "code",
   "execution_count": null,
   "metadata": {},
   "outputs": [],
   "source": [
    "slab.cell"
   ]
  },
  {
   "cell_type": "markdown",
   "metadata": {},
   "source": [
    "## Neutral Slab in Vacuum"
   ]
  },
  {
   "attachments": {},
   "cell_type": "markdown",
   "metadata": {},
   "source": [
    "We can start with the simplest environment, which just takes care of fixing PBC artifacts. Also in this case we will use a parabolic correction of the potential. For neutral slabs, such a correction is sometimes konwn as the dipole correction (e.g., as introduced by L. Bengtsson, Phys. Rev. B 59, 12301)."
   ]
  },
  {
   "cell_type": "code",
   "execution_count": null,
   "metadata": {},
   "outputs": [],
   "source": [
    "input_data = {\n",
    "    'control': {\n",
    "        'restart_mode': 'from_scratch',\n",
    "        'pseudo_dir': '../pseudos',\n",
    "        'calculation': 'scf',\n",
    "        'prefix': 'PtCO'\n",
    "    },\n",
    "    'system': {\n",
    "        'ecutwfc': 30,\n",
    "        'ecutrho': 300,\n",
    "        'occupations': 'smearing',\n",
    "        'degauss': 0.03,\n",
    "        'smearing': 'mv',\n",
    "        'nbnd': 80,\n",
    "        'tot_charge': 0.\n",
    "    },\n",
    "    'electrons': {\n",
    "        'diagonalization':'david',\n",
    "        'conv_thr': 1.0e-8, \n",
    "        'mixing_beta': 0.2\n",
    "    }\n",
    "} \n",
    "\n",
    "calc = Espresso(\n",
    "    pseudopotentials=pseudopotentials,\n",
    "    tstress=True, tprnfor=True, \n",
    "    input_data = input_data,\n",
    "    kpts=(1,1,1),\n",
    "    koffset=(0,0,0))\n",
    "\n",
    "slab.calc = calc"
   ]
  },
  {
   "attachments": {},
   "cell_type": "markdown",
   "metadata": {},
   "source": [
    "Note that we need to specify that we are dealing with a 2D system and the direction of the axis perpendicular to the plane (most of the time it will be the third axis, a.k.a. z)."
   ]
  },
  {
   "cell_type": "code",
   "execution_count": null,
   "metadata": {},
   "outputs": [],
   "source": [
    "%%bash\n",
    "  cat > environ.in << EOF\n",
    "&ENVIRON\n",
    "   !\n",
    "   verbose = 2\n",
    "   environ_thr = 10 ! this controls when Environ kicks in\n",
    "   environ_type = 'vacuum' ! this is the default value, no environment effects\n",
    "   env_electrostatic = .true. ! this will still activate Environ for electrostatics\n",
    "   !\n",
    "/\n",
    "&BOUNDARY\n",
    "   !\n",
    "   solvent_mode = 'full'\n",
    "   !\n",
    "/\n",
    "&ELECTROSTATIC\n",
    "   !\n",
    "   pbc_correction = 'parabolic'\n",
    "   pbc_dim = 2\n",
    "   pbc_axis = 3\n",
    "   !\n",
    "/\n",
    "EOF"
   ]
  },
  {
   "cell_type": "code",
   "execution_count": null,
   "metadata": {},
   "outputs": [],
   "source": [
    "energy = slab.get_potential_energy()\n",
    "print(f\"Energy in vacuum = {energy:.3f} eV\")"
   ]
  },
  {
   "attachments": {},
   "cell_type": "markdown",
   "metadata": {},
   "source": [
    "In the presence of the parabolic correction, the resulting potential will be aligned to zero. This implies that the Fermi energy of the system can be identified as the workfunction of the surface of the material. However, we need to make sure to include a constant shift reported by Environ in the pw.x output, related to the way Environ handles nuclear charges.  "
   ]
  },
  {
   "cell_type": "code",
   "execution_count": null,
   "metadata": {},
   "outputs": [],
   "source": [
    "print(\"The Fermi energy (workfunction) of the system is {} eV\".format(get_Fermi_energy()))\n",
    "print(\"An additional shift of {:6.4f} eV in the energy and potential needs to be included\".format(get_Gaussian_shift()[0]))"
   ]
  },
  {
   "attachments": {},
   "cell_type": "markdown",
   "metadata": {},
   "source": [
    "We can also look at the potentials produced by Environ and verify that the behaviors make physical sense."
   ]
  },
  {
   "cell_type": "code",
   "execution_count": null,
   "metadata": {},
   "outputs": [],
   "source": [
    "vref_neutral_vac=cubefile('vreference.cube')\n",
    "vel_neutral_vac=cubefile('velectrostatic.cube')\n",
    "dv_neutral_vac=cubefile('dvtot.cube')"
   ]
  },
  {
   "cell_type": "code",
   "execution_count": null,
   "metadata": {},
   "outputs": [],
   "source": [
    "x,y=vref_neutral_vac.to_line_planar_average(slab.positions[-1,:]*ang2bohr,2)\n",
    "plt.plot(x,y)\n",
    "#x,y=vel_neutral_vac.to_line_planar_average(slab.positions[-1,:]*ang2bohr,2)\n",
    "#plt.plot(x,y)\n",
    "#x,y=dv_neutral_vac.to_line_planar_average(slab.positions[-1,:]*ang2bohr,2)\n",
    "#plt.plot(x,y)\n",
    "plt.ylabel('Planar-Averaged Electrostatic Potential (Ry)')\n",
    "plt.xlabel('z (Bohr)')\n",
    "plt.show()"
   ]
  },
  {
   "attachments": {},
   "cell_type": "markdown",
   "metadata": {},
   "source": [
    "## Charged Slab in Vacuum"
   ]
  },
  {
   "attachments": {},
   "cell_type": "markdown",
   "metadata": {},
   "source": [
    "While PBC artifacts already affect neutral slabs, if we want to study charged 2D systems we are in troubles."
   ]
  },
  {
   "cell_type": "code",
   "execution_count": null,
   "metadata": {},
   "outputs": [],
   "source": [
    "input_data = {\n",
    "    'control': {\n",
    "        'restart_mode': 'from_scratch',\n",
    "        'pseudo_dir': '../pseudos',\n",
    "        'calculation': 'scf',\n",
    "        'prefix': 'PtCO'\n",
    "    },\n",
    "    'system': {\n",
    "        'ecutwfc': 30,\n",
    "        'ecutrho': 300,\n",
    "        'occupations': 'smearing',\n",
    "        'degauss': 0.03,\n",
    "        'smearing': 'mv',\n",
    "        'nbnd': 80,\n",
    "        'tot_charge': 1.\n",
    "    },\n",
    "    'electrons': {\n",
    "        'diagonalization':'david',\n",
    "        'conv_thr': 1.0e-8, \n",
    "        'mixing_beta': 0.2\n",
    "    }\n",
    "} \n",
    "\n",
    "calc = Espresso(\n",
    "    pseudopotentials=pseudopotentials,\n",
    "    tstress=True, tprnfor=True, \n",
    "    input_data = input_data,\n",
    "    kpts=(1,1,1),\n",
    "    koffset=(0,0,0))\n",
    "\n",
    "slab.calc = calc"
   ]
  },
  {
   "cell_type": "code",
   "execution_count": null,
   "metadata": {},
   "outputs": [],
   "source": [
    "energy = slab.get_potential_energy()\n",
    "print(f\"Energy in vacuum = {energy:.3f} eV\")"
   ]
  },
  {
   "cell_type": "code",
   "execution_count": null,
   "metadata": {},
   "outputs": [],
   "source": [
    "vref_charged_vac=cubefile('vreference.cube')\n",
    "vel_charged_vac=cubefile('velectrostatic.cube')\n",
    "dv_charged_vac=cubefile('dvtot.cube')"
   ]
  },
  {
   "cell_type": "code",
   "execution_count": null,
   "metadata": {},
   "outputs": [],
   "source": [
    "x,y=vref_charged_vac.to_line_planar_average(slab.positions[-1,:]*ang2bohr,2)\n",
    "plt.plot(x,y)\n",
    "#x,y=vel_charged_vac.to_line_planar_average(slab.positions[-1,:]*ang2bohr,2)\n",
    "#plt.plot(x,y)\n",
    "#x,y=dv_charged_vac.to_line_planar_average(slab.positions[-1,:]*ang2bohr,2)\n",
    "#plt.plot(x,y)\n",
    "plt.ylabel('Planar-Averaged Electrostatic Potential (Ry)')\n",
    "plt.xlabel('z (Bohr)')\n",
    "plt.show()"
   ]
  },
  {
   "attachments": {},
   "cell_type": "markdown",
   "metadata": {},
   "source": [
    "## Dielectric Effects"
   ]
  },
  {
   "attachments": {},
   "cell_type": "markdown",
   "metadata": {},
   "source": [
    "Could it be that including a screening dielectric medium solves the problem?"
   ]
  },
  {
   "cell_type": "code",
   "execution_count": null,
   "metadata": {},
   "outputs": [],
   "source": [
    "%%bash\n",
    "  cat > environ.in << EOF\n",
    "&ENVIRON\n",
    "   !\n",
    "   verbose = 2\n",
    "   environ_thr = 10 ! this controls when Environ kicks in\n",
    "   env_static_permittivity = 78.3\n",
    "   !\n",
    "/\n",
    "&BOUNDARY\n",
    "   !\n",
    "   solvent_mode = 'full'\n",
    "   !\n",
    "/\n",
    "&ELECTROSTATIC\n",
    "   !\n",
    "   pbc_correction = 'parabolic'\n",
    "   pbc_dim = 2\n",
    "   pbc_axis = 3\n",
    "   !\n",
    "/\n",
    "EOF"
   ]
  },
  {
   "cell_type": "code",
   "execution_count": null,
   "metadata": {},
   "outputs": [],
   "source": [
    "input_data = {\n",
    "    'control': {\n",
    "        'restart_mode': 'from_scratch',\n",
    "        'pseudo_dir': '../pseudos',\n",
    "        'calculation': 'scf',\n",
    "        'prefix': 'PtCO'\n",
    "    },\n",
    "    'system': {\n",
    "        'ecutwfc': 30,\n",
    "        'ecutrho': 300,\n",
    "        'occupations': 'smearing',\n",
    "        'degauss': 0.03,\n",
    "        'smearing': 'mv',\n",
    "        'nbnd': 80,\n",
    "        'tot_charge': 1.\n",
    "    },\n",
    "    'electrons': {\n",
    "        'diagonalization':'david',\n",
    "        'conv_thr': 1.0e-8, \n",
    "        'mixing_beta': 0.2\n",
    "    }\n",
    "} \n",
    "\n",
    "calc = Espresso(\n",
    "    pseudopotentials=pseudopotentials,\n",
    "    tstress=True, tprnfor=True, \n",
    "    input_data = input_data,\n",
    "    kpts=(1,1,1),\n",
    "    koffset=(0,0,0))\n",
    "\n",
    "slab.calc = calc"
   ]
  },
  {
   "cell_type": "code",
   "execution_count": null,
   "metadata": {},
   "outputs": [],
   "source": [
    "energy = slab.get_potential_energy()\n",
    "print(f\"Energy in vacuum = {energy:.3f} eV\")"
   ]
  },
  {
   "attachments": {},
   "cell_type": "markdown",
   "metadata": {},
   "source": [
    "Note that for this specific system, the SCF is not very well behaved in the presence of the dielectric. The simulation parameters are probably the cause of the slow convergence."
   ]
  },
  {
   "cell_type": "code",
   "execution_count": null,
   "metadata": {},
   "outputs": [],
   "source": [
    "accuracy = get_scf_accuracy()\n",
    "plt.semilogy(accuracy)"
   ]
  },
  {
   "cell_type": "code",
   "execution_count": null,
   "metadata": {},
   "outputs": [],
   "source": [
    "vref_neutral_diel=cubefile('vreference.cube')\n",
    "vel_neutral_diel=cubefile('velectrostatic.cube')\n",
    "dv_neutral_diel=cubefile('dvtot.cube')"
   ]
  },
  {
   "cell_type": "code",
   "execution_count": null,
   "metadata": {},
   "outputs": [],
   "source": [
    "x,y=vref_neutral_diel.to_line_planar_average(slab.positions[-1,:]*ang2bohr,2)\n",
    "plt.plot(x,y)\n",
    "x,y=vel_neutral_diel.to_line_planar_average(slab.positions[-1,:]*ang2bohr,2)\n",
    "plt.plot(x,y)\n",
    "#x,y=dv_neutral_diel.to_line_planar_average(slab.positions[-1,:]*ang2bohr,2)\n",
    "#plt.plot(x,y)\n",
    "plt.ylabel('Planar-Averaged Electrostatic Potential (Ry)')\n",
    "plt.xlabel('z (Bohr)')\n",
    "plt.ylim(-0.1,0.1)\n",
    "plt.show()"
   ]
  },
  {
   "cell_type": "code",
   "execution_count": null,
   "metadata": {},
   "outputs": [],
   "source": [
    "xx,yy,zz=dv_neutral_diel.to_surface(slab.positions[-1,:],1)\n",
    "plt.contourf(xx,yy,zz,levels=100)\n",
    "plt.axis('equal')"
   ]
  },
  {
   "attachments": {},
   "cell_type": "markdown",
   "metadata": {},
   "source": [
    "## Modeling the Electrolyte Ions: Helmholtz Planes"
   ]
  },
  {
   "attachments": {},
   "cell_type": "markdown",
   "metadata": {},
   "source": [
    "A dielectric by itself will not fully fix the problem of simulating a charged slab. We need to include a countercharge in the surrouding medium that fully neutralizes our simulation cell. The easiest way is to follow the model of the Helmholtz layers, which should approximate the most stable solution for free charges at 0K. "
   ]
  },
  {
   "cell_type": "code",
   "execution_count": null,
   "metadata": {},
   "outputs": [],
   "source": [
    "%%bash\n",
    "  cat > environ.in << EOF\n",
    "&ENVIRON\n",
    "   !\n",
    "   verbose = 2\n",
    "   environ_thr = 10 ! this controls when Environ kicks in\n",
    "!   env_static_permittivity = 78.3\n",
    "   env_external_charges = 2\n",
    "   !\n",
    "/\n",
    "&BOUNDARY\n",
    "   !\n",
    "   solvent_mode = 'full'\n",
    "   !\n",
    "/\n",
    "&ELECTROSTATIC\n",
    "   !\n",
    "   pbc_correction = 'parabolic'\n",
    "   pbc_dim = 2\n",
    "   pbc_axis = 3\n",
    "   !\n",
    "/\n",
    "EXTERNAL_CHARGES (bohr)\n",
    "-0.5 0. 0. 7. 0.5 2 3\n",
    "-0.5 0. 0. 30. 0.5 2 3\n",
    "EOF"
   ]
  },
  {
   "cell_type": "code",
   "execution_count": null,
   "metadata": {},
   "outputs": [],
   "source": [
    "input_data = {\n",
    "    'control': {\n",
    "        'restart_mode': 'from_scratch',\n",
    "        'pseudo_dir': '../pseudos',\n",
    "        'calculation': 'scf',\n",
    "        'prefix': 'PtCO'\n",
    "    },\n",
    "    'system': {\n",
    "        'ecutwfc': 30,\n",
    "        'ecutrho': 300,\n",
    "        'occupations': 'smearing',\n",
    "        'degauss': 0.03,\n",
    "        'smearing': 'mv',\n",
    "        'nbnd': 80,\n",
    "        'tot_charge': 1.\n",
    "    },\n",
    "    'electrons': {\n",
    "        'diagonalization':'david',\n",
    "        'conv_thr': 1.0e-8, \n",
    "        'mixing_beta': 0.2\n",
    "    }\n",
    "} \n",
    "\n",
    "calc = Espresso(\n",
    "    pseudopotentials=pseudopotentials,\n",
    "    tstress=True, tprnfor=True, \n",
    "    input_data = input_data,\n",
    "    kpts=(1,1,1),\n",
    "    koffset=(0,0,0))\n",
    "\n",
    "slab.calc = calc"
   ]
  },
  {
   "cell_type": "code",
   "execution_count": null,
   "metadata": {},
   "outputs": [],
   "source": [
    "energy = slab.get_potential_energy()\n",
    "print(f\"Energy in vacuum = {energy:.3f} eV\")"
   ]
  },
  {
   "attachments": {},
   "cell_type": "markdown",
   "metadata": {},
   "source": [
    "Now, the calculation of the workfunction will correspond to the potential drop on the system. This will clearly depend on the position we choose for the Helmholtz layers. "
   ]
  },
  {
   "cell_type": "code",
   "execution_count": null,
   "metadata": {},
   "outputs": [],
   "source": [
    "Ef = get_Fermi_energy()[0] + get_Gaussian_shift()[0]\n",
    "print('The potential on the system is = {:5.3} eV'.format(-Ef/eV2Ry))"
   ]
  },
  {
   "cell_type": "code",
   "execution_count": null,
   "metadata": {},
   "outputs": [],
   "source": [
    "vref_helm_vac=cubefile('vreference.cube')\n",
    "vel_helm_vac=cubefile('velectrostatic.cube')\n",
    "dv_helm_vac=cubefile('dvtot.cube')"
   ]
  },
  {
   "cell_type": "code",
   "execution_count": null,
   "metadata": {},
   "outputs": [],
   "source": [
    "x,y=vref_helm_vac.to_line_planar_average(slab.positions[-1,:]*ang2bohr,2)\n",
    "plt.plot(x,y)\n",
    "x,y=vel_helm_vac.to_line_planar_average(slab.positions[-1,:]*ang2bohr,2)\n",
    "plt.plot(x,y)\n",
    "plt.plot(x,np.ones(len(y))*Ef/eV2Ry)\n",
    "plt.ylabel('Planar-Averaged Electrostatic Potential (Ry)')\n",
    "plt.xlabel('z (Bohr)')\n",
    "#plt.ylim(-0.1,0.1)\n",
    "plt.show()"
   ]
  },
  {
   "attachments": {},
   "cell_type": "markdown",
   "metadata": {},
   "source": [
    "## Modeling the Electrolyte Ions: Poisson-Boltzmann Problems"
   ]
  },
  {
   "attachments": {},
   "cell_type": "markdown",
   "metadata": {},
   "source": [
    "Less empirical definitions of the electrochemical diffuse layers can be introduced. In Environ we have a hierarchy of models of increasing accuracy (and cost). Linearized Poisson-Boltzmann can be solved relatively fast and converges smoothly. The analytical solution to a planar-averaged problem is implemented as a PBC correction scheme, dubbed `gcs` (for the Gouy-Chapman-Stern model of the diffuse layer on which the equations are based). A full non-linear Poisson-Boltzmann algorithm is also implemented, although costs and convergence are far from ideal. For this latter model, a size-modified approach, that accounts for the finite size of the electrolyte ions, is more physical and shows better convergence."
   ]
  },
  {
   "cell_type": "code",
   "execution_count": null,
   "metadata": {},
   "outputs": [],
   "source": [
    "slab = fcc100('Ag', size=(1,1,8), a=4.1485, vacuum=20, orthogonal=True)\n",
    "pseudopotentials={ \"Ag\":\"Ag.pbe-n-rrkjus_psl.1.0.0.UPF\"}"
   ]
  },
  {
   "cell_type": "code",
   "execution_count": null,
   "metadata": {},
   "outputs": [],
   "source": [
    "input_data = {\n",
    "    'control': {\n",
    "        'restart_mode': 'from_scratch',\n",
    "        'pseudo_dir': '../pseudos',\n",
    "        'calculation': 'scf',\n",
    "        'prefix': 'Ag'\n",
    "    },\n",
    "    'system': {\n",
    "        'ecutwfc': 30,\n",
    "        'ecutrho': 300,\n",
    "        'occupations': 'smearing',\n",
    "        'degauss': 0.02,\n",
    "        'smearing': 'mv',\n",
    "        'tot_charge': 0.5\n",
    "    },\n",
    "    'electrons': {\n",
    "        'diagonalization':'david',\n",
    "        'conv_thr': 1.0e-8, \n",
    "        'mixing_beta': 0.2\n",
    "    }\n",
    "} \n",
    "\n",
    "calc = Espresso(\n",
    "    pseudopotentials=pseudopotentials,\n",
    "    tstress=True, tprnfor=True, \n",
    "    input_data = input_data,\n",
    "    kpts=(2,2,1),\n",
    "    koffset=(0,0,0))\n",
    "\n",
    "slab.calc = calc"
   ]
  },
  {
   "cell_type": "code",
   "execution_count": null,
   "metadata": {},
   "outputs": [],
   "source": [
    "%%bash\n",
    "cat > environ.in << EOF\n",
    "&ENVIRON\n",
    "   verbose = 0\n",
    "   environ_thr = 1.d2\n",
    "   env_static_permittivity = 78.3\n",
    "   env_electrolyte_ntyp = 2\n",
    "   zion(1) = 1\n",
    "   zion(2) = -1\n",
    "   cion(1) = 1.0\n",
    "   cion(2) = 1.0\n",
    "   cionmax = 0\n",
    "   temperature = 300\n",
    "   system_dim = 2           \n",
    "   system_axis = 3 \n",
    "   system_ntyp = 1\n",
    "   electrolyte_linearized = .true.\n",
    "/\n",
    "&BOUNDARY\n",
    "   solvent_mode = 'full'\n",
    "   electrolyte_mode = 'system'\n",
    "   electrolyte_distance = 30.\n",
    "   electrolyte_spread = 0.01   \n",
    "/\n",
    "&ELECTROSTATIC\n",
    "   pbc_correction = 'parabolic'\n",
    "   pbc_dim = 2\n",
    "   pbc_axis = 3\n",
    "   tol = 5.D-13\n",
    "   inner_tol = 5.D-18\n",
    "/\n",
    "EOF"
   ]
  },
  {
   "cell_type": "code",
   "execution_count": null,
   "metadata": {},
   "outputs": [],
   "source": [
    "energy = slab.get_potential_energy()\n",
    "Ef = get_Fermi_energy()[0] + get_Gaussian_shift()[0]\n",
    "print('The potential on the system is = {:5.3} eV'.format(-Ef/eV2Ry))"
   ]
  },
  {
   "cell_type": "code",
   "execution_count": null,
   "metadata": {},
   "outputs": [],
   "source": [
    "input_data = {\n",
    "    'control': {\n",
    "        'restart_mode': 'from_scratch',\n",
    "        'pseudo_dir': '../pseudos',\n",
    "        'calculation': 'scf',\n",
    "        'prefix': 'Ag'\n",
    "    },\n",
    "    'system': {\n",
    "        'ecutwfc': 30,\n",
    "        'ecutrho': 300,\n",
    "        'occupations': 'smearing',\n",
    "        'degauss': 0.02,\n",
    "        'smearing': 'mv',\n",
    "        'tot_charge': 0.5\n",
    "    },\n",
    "    'electrons': {\n",
    "        'diagonalization':'david',\n",
    "        'conv_thr': 1.0e-8, \n",
    "        'mixing_beta': 0.2\n",
    "    }\n",
    "} \n",
    "\n",
    "calc = Espresso(\n",
    "    pseudopotentials=pseudopotentials,\n",
    "    tstress=True, tprnfor=True, \n",
    "    input_data = input_data,\n",
    "    kpts=(2,2,1),\n",
    "    koffset=(0,0,0))\n",
    "\n",
    "slab.calc = calc"
   ]
  },
  {
   "cell_type": "code",
   "execution_count": null,
   "metadata": {},
   "outputs": [],
   "source": [
    "%%bash\n",
    "cat > environ.in << EOF\n",
    "&ENVIRON\n",
    "   verbose = 0\n",
    "   environ_thr = 1.d2\n",
    "   env_static_permittivity = 78.3\n",
    "   env_electrolyte_ntyp = 2\n",
    "   zion(1) = 1\n",
    "   zion(2) = -1\n",
    "   cion(1) = 1.0\n",
    "   cion(2) = 1.0\n",
    "   cionmax = 0\n",
    "   temperature = 300\n",
    "   system_dim = 2           \n",
    "   system_axis = 3 \n",
    "   system_ntyp = 1\n",
    "   electrolyte_linearized = .false.\n",
    "/\n",
    "&BOUNDARY\n",
    "   solvent_mode = 'full'\n",
    "   electrolyte_mode = 'system'\n",
    "   electrolyte_distance = 30.\n",
    "   electrolyte_spread = 0.01   \n",
    "/\n",
    "&ELECTROSTATIC\n",
    "   pbc_correction = 'gcs'\n",
    "   pbc_dim = 2\n",
    "   pbc_axis = 3\n",
    "   tol = 5.D-13\n",
    "   inner_tol = 5.D-18\n",
    "/\n",
    "EOF"
   ]
  },
  {
   "cell_type": "code",
   "execution_count": null,
   "metadata": {},
   "outputs": [],
   "source": [
    "energy = slab.get_potential_energy()\n",
    "Ef = get_Fermi_energy()[0] + get_Gaussian_shift()[0]\n",
    "print('The potential on the system is = {:5.3} eV'.format(-Ef/eV2Ry))"
   ]
  },
  {
   "cell_type": "code",
   "execution_count": null,
   "metadata": {},
   "outputs": [],
   "source": [
    "%%bash\n",
    "cat > environ.in << EOF\n",
    "&ENVIRON\n",
    "   verbose = 0\n",
    "   environ_thr = 1.d2\n",
    "   env_static_permittivity = 78.3\n",
    "   env_electrolyte_ntyp = 2\n",
    "   zion(1) = 1\n",
    "   zion(2) = -1\n",
    "   cion(1) = 1.0\n",
    "   cion(2) = 1.0\n",
    "   cionmax = 10\n",
    "   temperature = 300\n",
    "   system_dim = 2           \n",
    "   system_axis = 3 \n",
    "   system_ntyp = 1\n",
    "   electrolyte_linearized = .false.\n",
    "/\n",
    "&BOUNDARY\n",
    "   solvent_mode = 'full'\n",
    "   electrolyte_mode = 'system'\n",
    "   electrolyte_distance = 30.\n",
    "   electrolyte_spread = 0.01   \n",
    "/\n",
    "&ELECTROSTATIC\n",
    "   pbc_correction = 'gcs'\n",
    "   pbc_dim = 2\n",
    "   pbc_axis = 3\n",
    "   tol = 5.D-13\n",
    "   inner_tol = 5.D-18\n",
    "/\n",
    "EOF"
   ]
  }
 ],
 "metadata": {
  "kernelspec": {
   "display_name": "Python 3",
   "language": "python",
   "name": "python3"
  },
  "language_info": {
   "codemirror_mode": {
    "name": "ipython",
    "version": 3
   },
   "file_extension": ".py",
   "mimetype": "text/x-python",
   "name": "python",
   "nbconvert_exporter": "python",
   "pygments_lexer": "ipython3",
   "version": "3.9.6"
  },
  "orig_nbformat": 4
 },
 "nbformat": 4,
 "nbformat_minor": 2
}
